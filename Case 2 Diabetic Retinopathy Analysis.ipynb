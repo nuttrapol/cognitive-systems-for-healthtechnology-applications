{
 "cells": [
  {
   "cell_type": "markdown",
   "metadata": {},
   "source": [
    "# Case 2. Diabetic Retinopathy Analysis\n",
    "Nuttapol Saiboonruen<br>\n",
    "Last edited: 03.03.2019<br>\n",
    "Cognitive Systems for Health Technology Applications<br>\n",
    "[Helsinki Metropolia University of Applied Sciences](http://www.metropolia.fi/en/)<br>"
   ]
  },
  {
   "cell_type": "markdown",
   "metadata": {},
   "source": [
    "## 1. Objectives"
   ]
  },
  {
   "cell_type": "markdown",
   "metadata": {},
   "source": [
    "1. Classify Diabetic Retinopathy case for normal(0) or non-normal (1-4) from images.\n",
    "2. Lower result that we prdict the non-normal as normal case.\n",
    "3. Getting high accuracy(above 75%) of the model that can predict the right answer.\n",
    "4. the model can avoid the over-fitting.\n",
    "5. Preprocess or handle the unbalance data."
   ]
  },
  {
   "cell_type": "markdown",
   "metadata": {},
   "source": [
    "## 2. Required libraries"
   ]
  },
  {
   "cell_type": "markdown",
   "metadata": {},
   "source": [
    "### Import libraries\n",
    "First we import all libraries (or modules) and functions needed in this session.\n",
    "\n",
    "- [`import time`](https://duckduckgo.com/?q=python+time.time&t=ffab&atb=v150-2__&ia=about) we use for clocking the training evaluation time\n",
    "- [`import warnings`](https://docs.python.org/2/library/warnings.html#temporarily-suppressing-warnings) is used for suppress warnings at the very end of the code\n",
    "- `import pandas as pd` imports the pandas library and we can use the short notation `pd`\n",
    "- `import numpy as np` imports the numpy library and we can use the short notation `np`\n",
    "- `import matplotlib.pyplot as plt` imports the matplotlib library and we can use the short notation `plt`\n",
    "- `import tensorflow as tf` imports the tensorflow library and we can use the short notation `tf`\n",
    "-  `from sklearn ...` we import some special functions from scikit-learn module\n",
    "- `from keras ...` is used for special keras functions"
   ]
  },
  {
   "cell_type": "code",
   "execution_count": 146,
   "metadata": {},
   "outputs": [],
   "source": [
    "import numpy as np # linear algebra\n",
    "import pandas as pd # data processing, CSV file I/O (e.g. pd.read_csv)\n",
    "import matplotlib.pyplot as plt\n",
    "import os, shutil, cv2, time\n",
    "import tensorflow as tf\n",
    "import warnings\n"
   ]
  },
  {
   "cell_type": "markdown",
   "metadata": {},
   "source": [
    "## 3. Data description and preprocessing"
   ]
  },
  {
   "cell_type": "markdown",
   "metadata": {},
   "source": [
    "### Define the variables\n",
    "First of all we define the variables that we will use in this case."
   ]
  },
  {
   "cell_type": "code",
   "execution_count": 155,
   "metadata": {},
   "outputs": [
    {
     "name": "stdout",
     "output_type": "stream",
     "text": [
      "Data size:     20000\n",
      "Batch size:       32\n",
      "Training steps:   218\n",
      "Validation steps: 406\n",
      "Epochs:           100\n",
      "Image size:       (299, 299, 3)\n"
     ]
    }
   ],
   "source": [
    "SIZE = 20000 # Total number of images pooled from 300_train\n",
    "BATCH_SIZE = 32 \n",
    "TRAIN_STEPS = SPLIT // BATCH_SIZE # Steps per epoch when we train the model\n",
    "VALID_STEPS = (SIZE - SPLIT) // BATCH_SIZE\n",
    "EPOCHS = 100\n",
    "N_EPOCHS = 0\n",
    "IMAGE_SIZE = 299 # Size of the image that we will feed to our models\n",
    "print('Data size:    ', SIZE)\n",
    "print('Batch size:      ', BATCH_SIZE)\n",
    "print('Training steps:  ', TRAIN_STEPS)\n",
    "print('Validation steps:', VALID_STEPS)\n",
    "print('Epochs:          ', EPOCHS)\n",
    "print('Image size:      ', (IMAGE_SIZE, IMAGE_SIZE, 3))"
   ]
  },
  {
   "cell_type": "markdown",
   "metadata": {},
   "source": [
    "### Create Directorry\n",
    "We create the temporary directory for train and test image that we will edit its."
   ]
  },
  {
   "cell_type": "code",
   "execution_count": 131,
   "metadata": {},
   "outputs": [
    {
     "name": "stdout",
     "output_type": "stream",
     "text": [
      "./temp/  cleared.\n",
      "./temp_test/  cleared.\n"
     ]
    }
   ],
   "source": [
    "# Create destination directory for train image.\n",
    "dest_dir = './temp/'\n",
    "\n",
    "try:\n",
    "    os.mkdir(dest_dir)\n",
    "    print('Created a directory:', dest_dir)\n",
    "except:\n",
    "    # Temp directory already exist, so clear it\n",
    "    for file in os.listdir(dest_dir):  \n",
    "        file_path = os.path.join(dest_dir, file)\n",
    "        try:\n",
    "            if os.path.isfile(file_path):\n",
    "                os.unlink(file_path)\n",
    "        except Exception as e:\n",
    "            print(e)\n",
    "    print(dest_dir, ' cleared.')\n",
    "    \n",
    "# Create destination directory for test image.\n",
    "dest_test_dir = './temp_test/'\n",
    "\n",
    "try:\n",
    "    os.mkdir(dest_test_dir)\n",
    "    print('Created a directory:', dest_test_dir)\n",
    "except:\n",
    "    # Temp directory already exist, so clear it\n",
    "    for file in os.listdir(dest_test_dir):  \n",
    "        file_path = os.path.join(dest_test_dir, file)\n",
    "        try:\n",
    "            if os.path.isfile(file_path):\n",
    "                os.unlink(file_path)\n",
    "        except Exception as e:\n",
    "            print(e)\n",
    "    print(dest_test_dir, ' cleared.')\n",
    "    "
   ]
  },
  {
   "cell_type": "markdown",
   "metadata": {},
   "source": [
    "### Import  and modify the data\n",
    "We import the data Diabetic Retinopathy from the source directory as raw data.<br>\n",
    "\n",
    "From the given data set the num column(label) have 5 score (0-4) 0 means healthy and 1-4 mean unhealthy. But we need only two score 0 and 1 to determine healthy and unhealthy. So we edit the lebel into the binary level for use in binary classification model and create the dataframe for train and test.<br>\n",
    "After that, we crop and resize the original images and save into our temporary  directory that we was create befor."
   ]
  },
  {
   "cell_type": "code",
   "execution_count": 132,
   "metadata": {},
   "outputs": [
    {
     "name": "stdout",
     "output_type": "stream",
     "text": [
      "Cropping and rescaling the images:\n",
      "2000 images resized in 22.64 seconds.\n",
      "4000 images resized in 46.57 seconds.\n",
      "6000 images resized in 69.22 seconds.\n",
      "8000 images resized in 91.77 seconds.\n",
      "../Bigdataset/300_train/29344_left.jpeg\n",
      "10000 images resized in 114.15 seconds.\n",
      "12000 images resized in 136.48 seconds.\n",
      "14000 images resized in 158.59 seconds.\n",
      "16000 images resized in 180.81 seconds.\n",
      "18000 images resized in 204.37 seconds.\n",
      "Total elapsed time for train data 226.80 seconds.\n",
      "2000 images resized in 23.05 seconds.\n",
      "4000 images resized in 46.25 seconds.\n",
      "6000 images resized in 69.58 seconds.\n",
      "8000 images resized in 92.53 seconds.\n",
      "10000 images resized in 115.76 seconds.\n",
      "12000 images resized in 139.67 seconds.\n",
      "14000 images resized in 163.99 seconds.\n",
      "16000 images resized in 188.19 seconds.\n",
      "18000 images resized in 213.17 seconds.\n",
      "Total elapsed time for test data 236.27 seconds.\n"
     ]
    }
   ],
   "source": [
    "# Read the train image names and labels\n",
    "df = pd.read_csv('../Bigdataset/newTrainLabels.csv')\n",
    "# Read the test image names and labels\n",
    "df_test = pd.read_csv('../Bigdataset/retinopathy_solution.csv')\n",
    "\n",
    "# Use binary labels\n",
    "df['level'] = 1*(df['level'] > 0)\n",
    "df_test['level'] = 1*(df_test['level'] > 0)\n",
    "\n",
    "\n",
    "# Take SIZE number of samples from dataframe\n",
    "df = df.sample(n = SIZE, random_state = 1)\n",
    "df_test = df_test.sample(n = SIZE, random_state = 1)\n",
    "\n",
    "# Source directory for training dataset\n",
    "source_dir = '../Bigdataset/300_train/'\n",
    "\n",
    "# Source directory for testing dataset\n",
    "source_test_dir = '../Bigdataset/300_test/'\n",
    "\n",
    "# Start timing\n",
    "start = time.time()\n",
    "\n",
    "# Crop and resize all images. Store them to dest_dir\n",
    "print('Cropping and rescaling the images:')\n",
    "for i, file in enumerate(df['image']):\n",
    "    try:\n",
    "        fname = source_dir + file + '.jpeg'\n",
    "        img = cv2.imread(fname)\n",
    "    \n",
    "        # Crop the image to the height\n",
    "        h, w, c = img.shape\n",
    "        if w > h:\n",
    "            wc = int(w/2)\n",
    "            w0 = wc - int(h/2)\n",
    "            w1 = w0 + h\n",
    "            img = img[:, w0:w1, :]\n",
    "        # Rescale to N x N\n",
    "        N = IMAGE_SIZE\n",
    "        img = cv2.resize(img, (N, N))\n",
    "        # Save\n",
    "        new_fname = dest_dir + file + '.png'\n",
    "        cv2.imwrite(new_fname, img)\n",
    "    except:\n",
    "        # Display the image name having troubles\n",
    "        print(fname)\n",
    "         \n",
    "    # Print the progress for every N images\n",
    "    if (i % 2000 == 0) & (i > 0):\n",
    "        print('{:} images resized in {:.2f} seconds.'.format(i, time.time()-start))\n",
    "# End timing\n",
    "print('Total elapsed time for train data {:.2f} seconds.'.format(time.time()-start))\n",
    "        \n",
    "# Start timing\n",
    "start = time.time()    \n",
    "\n",
    "# Crop and resize all images. Store them to dest_test_dir\n",
    "for i, file in enumerate(df_test['image']):\n",
    "    try:\n",
    "        fname = source_test_dir + file + '.jpeg'\n",
    "        img = cv2.imread(fname)\n",
    "    \n",
    "        # Crop the image to the height\n",
    "        h, w, c = img.shape\n",
    "        if w > h:\n",
    "            wc = int(w/2)\n",
    "            w0 = wc - int(h/2)\n",
    "            w1 = w0 + h\n",
    "            img = img[:, w0:w1, :]\n",
    "        # Rescale to N x N\n",
    "        N = IMAGE_SIZE\n",
    "        img = cv2.resize(img, (N, N))\n",
    "        # Save\n",
    "        new_fname = dest_test_dir + file + '.png'\n",
    "        cv2.imwrite(new_fname, img)\n",
    "    except:\n",
    "        # Display the image name having troubles\n",
    "        print(fname)\n",
    "         \n",
    "    # Print the progress for every N images\n",
    "    if (i % 2000 == 0) & (i > 0):\n",
    "        print('{:} images resized in {:.2f} seconds.'.format(i, time.time()-start))\n",
    "\n",
    "# End timing\n",
    "print('Total elapsed time for test data {:.2f} seconds.'.format(time.time()-start))"
   ]
  },
  {
   "cell_type": "code",
   "execution_count": 133,
   "metadata": {},
   "outputs": [
    {
     "data": {
      "text/html": [
       "<div>\n",
       "<style scoped>\n",
       "    .dataframe tbody tr th:only-of-type {\n",
       "        vertical-align: middle;\n",
       "    }\n",
       "\n",
       "    .dataframe tbody tr th {\n",
       "        vertical-align: top;\n",
       "    }\n",
       "\n",
       "    .dataframe thead th {\n",
       "        text-align: right;\n",
       "    }\n",
       "</style>\n",
       "<table border=\"1\" class=\"dataframe\">\n",
       "  <thead>\n",
       "    <tr style=\"text-align: right;\">\n",
       "      <th></th>\n",
       "      <th>image</th>\n",
       "      <th>MB</th>\n",
       "    </tr>\n",
       "    <tr>\n",
       "      <th>level</th>\n",
       "      <th></th>\n",
       "      <th></th>\n",
       "    </tr>\n",
       "  </thead>\n",
       "  <tbody>\n",
       "    <tr>\n",
       "      <th>0</th>\n",
       "      <td>14666</td>\n",
       "      <td>14666</td>\n",
       "    </tr>\n",
       "    <tr>\n",
       "      <th>1</th>\n",
       "      <td>5334</td>\n",
       "      <td>5334</td>\n",
       "    </tr>\n",
       "  </tbody>\n",
       "</table>\n",
       "</div>"
      ],
      "text/plain": [
       "       image     MB\n",
       "level              \n",
       "0      14666  14666\n",
       "1       5334   5334"
      ]
     },
     "execution_count": 133,
     "metadata": {},
     "output_type": "execute_result"
    }
   ],
   "source": [
    "# Check number of images in each classes of training data\n",
    "df.groupby('level').count()"
   ]
  },
  {
   "cell_type": "code",
   "execution_count": 134,
   "metadata": {},
   "outputs": [
    {
     "data": {
      "text/html": [
       "<div>\n",
       "<style scoped>\n",
       "    .dataframe tbody tr th:only-of-type {\n",
       "        vertical-align: middle;\n",
       "    }\n",
       "\n",
       "    .dataframe tbody tr th {\n",
       "        vertical-align: top;\n",
       "    }\n",
       "\n",
       "    .dataframe thead th {\n",
       "        text-align: right;\n",
       "    }\n",
       "</style>\n",
       "<table border=\"1\" class=\"dataframe\">\n",
       "  <thead>\n",
       "    <tr style=\"text-align: right;\">\n",
       "      <th></th>\n",
       "      <th>image</th>\n",
       "      <th>Usage</th>\n",
       "    </tr>\n",
       "    <tr>\n",
       "      <th>level</th>\n",
       "      <th></th>\n",
       "      <th></th>\n",
       "    </tr>\n",
       "  </thead>\n",
       "  <tbody>\n",
       "    <tr>\n",
       "      <th>0</th>\n",
       "      <td>14785</td>\n",
       "      <td>14785</td>\n",
       "    </tr>\n",
       "    <tr>\n",
       "      <th>1</th>\n",
       "      <td>5215</td>\n",
       "      <td>5215</td>\n",
       "    </tr>\n",
       "  </tbody>\n",
       "</table>\n",
       "</div>"
      ],
      "text/plain": [
       "       image  Usage\n",
       "level              \n",
       "0      14785  14785\n",
       "1       5215   5215"
      ]
     },
     "execution_count": 134,
     "metadata": {},
     "output_type": "execute_result"
    }
   ],
   "source": [
    "# Check number of images in each classes of testing data\n",
    "df_test.groupby('level').count()"
   ]
  },
  {
   "cell_type": "markdown",
   "metadata": {},
   "source": [
    "### Resampling\n",
    "As the first sampling dataframe. The dataframe are very unbalance in both class. When we use the unbalance data to train the model, the result come up with high accuracy but it equals to the ratio of both classes. That means the model didn't learn anything but it just guess all to be normal(0) that are in dataset around 70% and get the accuracy around 70%. So, We dicide to resampling the data equally in both class by using `apply(lambda)`.<br>\n",
    "Lastly we [shuffle](https://duckduckgo.com/?q=python+suffle&t=ffab&atb=v150-2__&ia=qa), e.g. change randomly the order of the rows.\n"
   ]
  },
  {
   "cell_type": "code",
   "execution_count": 136,
   "metadata": {},
   "outputs": [
    {
     "name": "stdout",
     "output_type": "stream",
     "text": [
      "Train dataframe\n"
     ]
    },
    {
     "data": {
      "text/html": [
       "<div>\n",
       "<style scoped>\n",
       "    .dataframe tbody tr th:only-of-type {\n",
       "        vertical-align: middle;\n",
       "    }\n",
       "\n",
       "    .dataframe tbody tr th {\n",
       "        vertical-align: top;\n",
       "    }\n",
       "\n",
       "    .dataframe thead th {\n",
       "        text-align: right;\n",
       "    }\n",
       "</style>\n",
       "<table border=\"1\" class=\"dataframe\">\n",
       "  <thead>\n",
       "    <tr style=\"text-align: right;\">\n",
       "      <th></th>\n",
       "      <th></th>\n",
       "      <th>image</th>\n",
       "      <th>level</th>\n",
       "      <th>MB</th>\n",
       "    </tr>\n",
       "    <tr>\n",
       "      <th>level</th>\n",
       "      <th></th>\n",
       "      <th></th>\n",
       "      <th></th>\n",
       "      <th></th>\n",
       "    </tr>\n",
       "  </thead>\n",
       "  <tbody>\n",
       "    <tr>\n",
       "      <th rowspan=\"5\" valign=\"top\">0</th>\n",
       "      <th>0</th>\n",
       "      <td>26274_right</td>\n",
       "      <td>0</td>\n",
       "      <td>0.139201</td>\n",
       "    </tr>\n",
       "    <tr>\n",
       "      <th>1</th>\n",
       "      <td>27979_left</td>\n",
       "      <td>0</td>\n",
       "      <td>0.113056</td>\n",
       "    </tr>\n",
       "    <tr>\n",
       "      <th>2</th>\n",
       "      <td>26000_right</td>\n",
       "      <td>0</td>\n",
       "      <td>0.146800</td>\n",
       "    </tr>\n",
       "    <tr>\n",
       "      <th>3</th>\n",
       "      <td>34128_left</td>\n",
       "      <td>0</td>\n",
       "      <td>0.152133</td>\n",
       "    </tr>\n",
       "    <tr>\n",
       "      <th>4</th>\n",
       "      <td>7751_right</td>\n",
       "      <td>0</td>\n",
       "      <td>0.122585</td>\n",
       "    </tr>\n",
       "  </tbody>\n",
       "</table>\n",
       "</div>"
      ],
      "text/plain": [
       "               image  level        MB\n",
       "level                                \n",
       "0     0  26274_right      0  0.139201\n",
       "      1   27979_left      0  0.113056\n",
       "      2  26000_right      0  0.146800\n",
       "      3   34128_left      0  0.152133\n",
       "      4   7751_right      0  0.122585"
      ]
     },
     "execution_count": 136,
     "metadata": {},
     "output_type": "execute_result"
    }
   ],
   "source": [
    "warnings.filterwarnings(\"ignore\")\n",
    "\n",
    "# Resample by getting the balance data in both classes and take only 10000 rows\n",
    "df = df.groupby('level').apply(lambda x: x.sample(5000 , random_state=1).reset_index(drop=True))\n",
    "df_test = df_test.groupby('level').apply(lambda x: x.sample(5000 , random_state=1).reset_index(drop=True))\n",
    "\n",
    "print(\"Train dataframe\")\n",
    "df.head()"
   ]
  },
  {
   "cell_type": "code",
   "execution_count": 137,
   "metadata": {},
   "outputs": [
    {
     "name": "stdout",
     "output_type": "stream",
     "text": [
      "Test dataframe\n"
     ]
    },
    {
     "data": {
      "text/html": [
       "<div>\n",
       "<style scoped>\n",
       "    .dataframe tbody tr th:only-of-type {\n",
       "        vertical-align: middle;\n",
       "    }\n",
       "\n",
       "    .dataframe tbody tr th {\n",
       "        vertical-align: top;\n",
       "    }\n",
       "\n",
       "    .dataframe thead th {\n",
       "        text-align: right;\n",
       "    }\n",
       "</style>\n",
       "<table border=\"1\" class=\"dataframe\">\n",
       "  <thead>\n",
       "    <tr style=\"text-align: right;\">\n",
       "      <th></th>\n",
       "      <th></th>\n",
       "      <th>image</th>\n",
       "      <th>level</th>\n",
       "      <th>Usage</th>\n",
       "    </tr>\n",
       "    <tr>\n",
       "      <th>level</th>\n",
       "      <th></th>\n",
       "      <th></th>\n",
       "      <th></th>\n",
       "      <th></th>\n",
       "    </tr>\n",
       "  </thead>\n",
       "  <tbody>\n",
       "    <tr>\n",
       "      <th rowspan=\"5\" valign=\"top\">0</th>\n",
       "      <th>0</th>\n",
       "      <td>30258_right</td>\n",
       "      <td>0</td>\n",
       "      <td>Private</td>\n",
       "    </tr>\n",
       "    <tr>\n",
       "      <th>1</th>\n",
       "      <td>9792_right</td>\n",
       "      <td>0</td>\n",
       "      <td>Private</td>\n",
       "    </tr>\n",
       "    <tr>\n",
       "      <th>2</th>\n",
       "      <td>7933_left</td>\n",
       "      <td>0</td>\n",
       "      <td>Private</td>\n",
       "    </tr>\n",
       "    <tr>\n",
       "      <th>3</th>\n",
       "      <td>34579_left</td>\n",
       "      <td>0</td>\n",
       "      <td>Public</td>\n",
       "    </tr>\n",
       "    <tr>\n",
       "      <th>4</th>\n",
       "      <td>36617_right</td>\n",
       "      <td>0</td>\n",
       "      <td>Private</td>\n",
       "    </tr>\n",
       "  </tbody>\n",
       "</table>\n",
       "</div>"
      ],
      "text/plain": [
       "               image  level    Usage\n",
       "level                               \n",
       "0     0  30258_right      0  Private\n",
       "      1   9792_right      0  Private\n",
       "      2    7933_left      0  Private\n",
       "      3   34579_left      0   Public\n",
       "      4  36617_right      0  Private"
      ]
     },
     "execution_count": 137,
     "metadata": {},
     "output_type": "execute_result"
    }
   ],
   "source": [
    "print(\"Test dataframe\")\n",
    "df_test.head()"
   ]
  },
  {
   "cell_type": "code",
   "execution_count": 138,
   "metadata": {},
   "outputs": [
    {
     "data": {
      "text/html": [
       "<div>\n",
       "<style scoped>\n",
       "    .dataframe tbody tr th:only-of-type {\n",
       "        vertical-align: middle;\n",
       "    }\n",
       "\n",
       "    .dataframe tbody tr th {\n",
       "        vertical-align: top;\n",
       "    }\n",
       "\n",
       "    .dataframe thead th {\n",
       "        text-align: right;\n",
       "    }\n",
       "</style>\n",
       "<table border=\"1\" class=\"dataframe\">\n",
       "  <thead>\n",
       "    <tr style=\"text-align: right;\">\n",
       "      <th></th>\n",
       "      <th></th>\n",
       "      <th>image</th>\n",
       "      <th>level</th>\n",
       "      <th>MB</th>\n",
       "    </tr>\n",
       "    <tr>\n",
       "      <th>level</th>\n",
       "      <th></th>\n",
       "      <th></th>\n",
       "      <th></th>\n",
       "      <th></th>\n",
       "    </tr>\n",
       "  </thead>\n",
       "  <tbody>\n",
       "    <tr>\n",
       "      <th>0</th>\n",
       "      <th>717</th>\n",
       "      <td>21280_left</td>\n",
       "      <td>0</td>\n",
       "      <td>0.134530</td>\n",
       "    </tr>\n",
       "    <tr>\n",
       "      <th rowspan=\"2\" valign=\"top\">1</th>\n",
       "      <th>4444</th>\n",
       "      <td>36300_right</td>\n",
       "      <td>1</td>\n",
       "      <td>0.106229</td>\n",
       "    </tr>\n",
       "    <tr>\n",
       "      <th>2718</th>\n",
       "      <td>19254_right</td>\n",
       "      <td>1</td>\n",
       "      <td>0.133123</td>\n",
       "    </tr>\n",
       "    <tr>\n",
       "      <th rowspan=\"2\" valign=\"top\">0</th>\n",
       "      <th>1305</th>\n",
       "      <td>37060_right</td>\n",
       "      <td>0</td>\n",
       "      <td>0.134912</td>\n",
       "    </tr>\n",
       "    <tr>\n",
       "      <th>4992</th>\n",
       "      <td>32551_left</td>\n",
       "      <td>0</td>\n",
       "      <td>0.122864</td>\n",
       "    </tr>\n",
       "  </tbody>\n",
       "</table>\n",
       "</div>"
      ],
      "text/plain": [
       "                  image  level        MB\n",
       "level                                   \n",
       "0     717    21280_left      0  0.134530\n",
       "1     4444  36300_right      1  0.106229\n",
       "      2718  19254_right      1  0.133123\n",
       "0     1305  37060_right      0  0.134912\n",
       "      4992   32551_left      0  0.122864"
      ]
     },
     "execution_count": 138,
     "metadata": {},
     "output_type": "execute_result"
    }
   ],
   "source": [
    "# Shuffle the dataframe\n",
    "from sklearn.utils import shuffle\n",
    "df=shuffle(df)\n",
    "df_test=shuffle(df_test)"
   ]
  },
  {
   "cell_type": "code",
   "execution_count": 139,
   "metadata": {},
   "outputs": [
    {
     "data": {
      "text/plain": [
       "(10000, 3)"
      ]
     },
     "execution_count": 139,
     "metadata": {},
     "output_type": "execute_result"
    }
   ],
   "source": [
    "# Check the size of train dataframe\n",
    "df.shape"
   ]
  },
  {
   "cell_type": "code",
   "execution_count": 140,
   "metadata": {},
   "outputs": [
    {
     "data": {
      "text/plain": [
       "(10000, 3)"
      ]
     },
     "execution_count": 140,
     "metadata": {},
     "output_type": "execute_result"
    }
   ],
   "source": [
    "# Check the size of test dataframe\n",
    "df_test.shape"
   ]
  },
  {
   "cell_type": "markdown",
   "metadata": {},
   "source": [
    "### Visualize data\n",
    "We visualize the dataframe to see how many elements in each claases."
   ]
  },
  {
   "cell_type": "code",
   "execution_count": 141,
   "metadata": {},
   "outputs": [
    {
     "data": {
      "image/png": "[encoded data removed]",
      "text/plain": [
       "<Figure size 432x288 with 1 Axes>"
      ]
     },
     "metadata": {
      "needs_background": "light"
     },
     "output_type": "display_data"
    }
   ],
   "source": [
    "# Create level histogram\n",
    "df['level'].hist(bins = [0,1,2], rwidth = 0.5, align = 'left');"
   ]
  },
  {
   "cell_type": "markdown",
   "metadata": {},
   "source": [
    "###  Modify dataframe\n",
    "\n",
    "According to the problem that we face that is generator need dataframe level column values should be the string because now column values are integer. So, we change it to string by using `dataframe['column_name'].apply(str)`<br>\n",
    "Next, we add file type to the image column because we found the problem that if we didn't add the file type when we generate model it cannot find any match images."
   ]
  },
  {
   "cell_type": "code",
   "execution_count": 142,
   "metadata": {},
   "outputs": [
    {
     "data": {
      "text/html": [
       "<div>\n",
       "<style scoped>\n",
       "    .dataframe tbody tr th:only-of-type {\n",
       "        vertical-align: middle;\n",
       "    }\n",
       "\n",
       "    .dataframe tbody tr th {\n",
       "        vertical-align: top;\n",
       "    }\n",
       "\n",
       "    .dataframe thead th {\n",
       "        text-align: right;\n",
       "    }\n",
       "</style>\n",
       "<table border=\"1\" class=\"dataframe\">\n",
       "  <thead>\n",
       "    <tr style=\"text-align: right;\">\n",
       "      <th></th>\n",
       "      <th></th>\n",
       "      <th>image</th>\n",
       "      <th>level</th>\n",
       "      <th>MB</th>\n",
       "    </tr>\n",
       "    <tr>\n",
       "      <th>level</th>\n",
       "      <th></th>\n",
       "      <th></th>\n",
       "      <th></th>\n",
       "      <th></th>\n",
       "    </tr>\n",
       "  </thead>\n",
       "  <tbody>\n",
       "    <tr>\n",
       "      <th>0</th>\n",
       "      <th>717</th>\n",
       "      <td>21280_left.png</td>\n",
       "      <td>0</td>\n",
       "      <td>0.134530</td>\n",
       "    </tr>\n",
       "    <tr>\n",
       "      <th rowspan=\"2\" valign=\"top\">1</th>\n",
       "      <th>4444</th>\n",
       "      <td>36300_right.png</td>\n",
       "      <td>1</td>\n",
       "      <td>0.106229</td>\n",
       "    </tr>\n",
       "    <tr>\n",
       "      <th>2718</th>\n",
       "      <td>19254_right.png</td>\n",
       "      <td>1</td>\n",
       "      <td>0.133123</td>\n",
       "    </tr>\n",
       "    <tr>\n",
       "      <th rowspan=\"2\" valign=\"top\">0</th>\n",
       "      <th>1305</th>\n",
       "      <td>37060_right.png</td>\n",
       "      <td>0</td>\n",
       "      <td>0.134912</td>\n",
       "    </tr>\n",
       "    <tr>\n",
       "      <th>4992</th>\n",
       "      <td>32551_left.png</td>\n",
       "      <td>0</td>\n",
       "      <td>0.122864</td>\n",
       "    </tr>\n",
       "  </tbody>\n",
       "</table>\n",
       "</div>"
      ],
      "text/plain": [
       "                      image level        MB\n",
       "level                                      \n",
       "0     717    21280_left.png     0  0.134530\n",
       "1     4444  36300_right.png     1  0.106229\n",
       "      2718  19254_right.png     1  0.133123\n",
       "0     1305  37060_right.png     0  0.134912\n",
       "      4992   32551_left.png     0  0.122864"
      ]
     },
     "execution_count": 142,
     "metadata": {},
     "output_type": "execute_result"
    }
   ],
   "source": [
    "# Change level column values to String\n",
    "df['level'] = df['level'].apply(str)\n",
    "df_test['level'] = df_test['level'].apply(str)\n",
    "\n",
    "# Add file type of image into dataframe image cloumn\n",
    "df.image=df.image+'.png'\n",
    "df_test.image=df_test.image+'.png'\n",
    "\n",
    "df.head()"
   ]
  },
  {
   "cell_type": "markdown",
   "metadata": {},
   "source": [
    "## 4. Image Preprocessing\n",
    "\n",
    "\n",
    "As we don't know how good and clear of the original images that we will use to train our models and we don't have a large dataset. We preprocess the image to improve the image data(features) that will important for our models by rescale, zoom, rotate, flip the original.<br><br>\n",
    "\n",
    "After that, we generate the train and validation batch of augmented from dataframe and images."
   ]
  },
  {
   "cell_type": "code",
   "execution_count": 157,
   "metadata": {},
   "outputs": [
    {
     "name": "stdout",
     "output_type": "stream",
     "text": [
      "Training flow:\n",
      "Found 7000 images belonging to 2 classes.\n",
      "Validation flow:\n",
      "Found 3000 images belonging to 2 classes.\n"
     ]
    }
   ],
   "source": [
    "# Create image data generator\n",
    "from keras.preprocessing.image import ImageDataGenerator\n",
    "\n",
    "DF_SIZE = 10000\n",
    "SPLIT = 7000\n",
    "\n",
    "# Validation generator, only rescale the images from 0..255 to range 0..1\n",
    "valid_generator = ImageDataGenerator(rescale = 1./255)\n",
    "\n",
    "# Test generator, only rescale the images from 0..255 to range 0..1\n",
    "test_generator = ImageDataGenerator(rescale = 1./255)\n",
    "\n",
    "# Train generator: zoom, rotate and flip\n",
    "train_generator = ImageDataGenerator(\n",
    "    rescale = 1./255,\n",
    "    zoom_range = 0.1,\n",
    "    rotation_range = 180,\n",
    "    horizontal_flip = True,\n",
    "    vertical_flip = True)\n",
    "\n",
    "# Training flow\n",
    "print('Training flow:')\n",
    "train_flow = train_generator.flow_from_dataframe(\n",
    "    dataframe = df[:SPLIT], # read from data frame from 0 to SPLIT\n",
    "    directory = dest_dir,\n",
    "    has_ext = False,\n",
    "    x_col = 'image', \n",
    "    y_col = 'level', \n",
    "    target_size = (IMAGE_SIZE, IMAGE_SIZE),   \n",
    "    classes = ['0','1'], \n",
    "    class_mode = 'binary', \n",
    "    batch_size = BATCH_SIZE, \n",
    "    shuffle = True, \n",
    "    seed = 1)\n",
    "\n",
    "# Validation flow\n",
    "print('Validation flow:')\n",
    "valid_flow = valid_generator.flow_from_dataframe(\n",
    "    dataframe = df[SPLIT:], # read data frame from SPLIT to END\n",
    "    directory = dest_dir,\n",
    "    has_ext = False,\n",
    "    x_col = 'image', \n",
    "    y_col = 'level', \n",
    "    target_size = (IMAGE_SIZE, IMAGE_SIZE), \n",
    "    classes = ['0', '1'], \n",
    "    class_mode = 'binary', \n",
    "    batch_size = BATCH_SIZE, \n",
    "    shuffle = False)"
   ]
  },
  {
   "cell_type": "markdown",
   "metadata": {},
   "source": [
    "## 5. Modeling and compilation\n",
    "\n",
    "\n",
    "The model is very simple sequential architecture with 14 layers (8 convolution layers, 5 MaxPooling layers, 1 fully connection layer).<br>\n",
    "The input(299x299 image size with 3 layer of RGB) is connected to convolution layer with 32 filters(3x3x3), then connected the same two layers with filter(3x3x32), which connect to 2x2 maxpooling layer with stride = 2, <br>\n",
    "it connected to the next convolution layer with 64 filters(3x3x32), which connect to 2x2 maxpooling layer with stride = 2,<br>\n",
    "then connected to the next two convolution layers with 128 filters(3x3x64) and 128 filters(3x3x128) respectively, which connect to 2x2 maxpooling layer with stride = 2,\n",
    "connected to the next convolution layers with 256 filters(3x3x128), which connect to 2x2 maxpooling layer with stride = 2,<br>\n",
    "then connected to the next convolution layers with 512 filters(3x3x256) that all convolution layers  use ReLU(Rectified Linear Unit) as activation function, which connect to 2x2 maxpooling layer with stride = 2,<br>\n",
    "then connected to flatten layer that will flat the large metrix to one vector, which fully connected to 25089 neurons which use sigmoid as activation function and 1 output neurons That is separated by 1 dropout layer for prevent the over-fitting.\n",
    "\n",
    "We use `sgd` optimizer and standard `binary_crossentropy` loss-function and `accuracy` metrics."
   ]
  },
  {
   "cell_type": "code",
   "execution_count": 144,
   "metadata": {},
   "outputs": [
    {
     "name": "stdout",
     "output_type": "stream",
     "text": [
      "_________________________________________________________________\n",
      "Layer (type)                 Output Shape              Param #   \n",
      "=================================================================\n",
      "conv2d_9 (Conv2D)            (None, 297, 297, 32)      896       \n",
      "_________________________________________________________________\n",
      "conv2d_10 (Conv2D)           (None, 295, 295, 32)      9248      \n",
      "_________________________________________________________________\n",
      "conv2d_11 (Conv2D)           (None, 293, 293, 32)      9248      \n",
      "_________________________________________________________________\n",
      "max_pooling2d_6 (MaxPooling2 (None, 146, 146, 32)      0         \n",
      "_________________________________________________________________\n",
      "conv2d_12 (Conv2D)           (None, 144, 144, 64)      18496     \n",
      "_________________________________________________________________\n",
      "max_pooling2d_7 (MaxPooling2 (None, 72, 72, 64)        0         \n",
      "_________________________________________________________________\n",
      "conv2d_13 (Conv2D)           (None, 70, 70, 128)       73856     \n",
      "_________________________________________________________________\n",
      "conv2d_14 (Conv2D)           (None, 68, 68, 128)       147584    \n",
      "_________________________________________________________________\n",
      "max_pooling2d_8 (MaxPooling2 (None, 34, 34, 128)       0         \n",
      "_________________________________________________________________\n",
      "conv2d_15 (Conv2D)           (None, 32, 32, 256)       295168    \n",
      "_________________________________________________________________\n",
      "max_pooling2d_9 (MaxPooling2 (None, 16, 16, 256)       0         \n",
      "_________________________________________________________________\n",
      "conv2d_16 (Conv2D)           (None, 14, 14, 512)       1180160   \n",
      "_________________________________________________________________\n",
      "max_pooling2d_10 (MaxPooling (None, 7, 7, 512)         0         \n",
      "_________________________________________________________________\n",
      "flatten_2 (Flatten)          (None, 25088)             0         \n",
      "_________________________________________________________________\n",
      "dropout_2 (Dropout)          (None, 25088)             0         \n",
      "_________________________________________________________________\n",
      "dense_2 (Dense)              (None, 1)                 25089     \n",
      "=================================================================\n",
      "Total params: 1,759,745\n",
      "Trainable params: 1,759,745\n",
      "Non-trainable params: 0\n",
      "_________________________________________________________________\n"
     ]
    }
   ],
   "source": [
    "# Create a basic Sequential model with several Conv2D layers\n",
    "from keras import layers\n",
    "from keras import Sequential\n",
    "from keras.layers import Conv2D, Activation, MaxPooling2D, Dropout, Flatten, Dense\n",
    "from keras import optimizers\n",
    "\n",
    "model = Sequential()\n",
    "model.add(layers.Conv2D(32, (3,3), activation='relu', input_shape=(299, 299, 3)))\n",
    "model.add(layers.Conv2D(32, (3,3), activation='relu'))\n",
    "model.add(layers.Conv2D(32, (3,3), activation='relu'))\n",
    "model.add(layers.MaxPooling2D((2,2)))\n",
    "model.add(layers.Conv2D(64, (3,3), activation='relu'))\n",
    "model.add(layers.MaxPooling2D((2,2)))\n",
    "model.add(layers.Conv2D(128, (3,3), activation='relu'))\n",
    "model.add(layers.Conv2D(128, (3,3), activation='relu'))\n",
    "model.add(layers.MaxPooling2D((2,2)))\n",
    "model.add(layers.Conv2D(256, (3,3), activation='relu'))\n",
    "model.add(layers.MaxPooling2D((2,2)))\n",
    "model.add(layers.Conv2D(512, (3,3), activation='relu'))\n",
    "model.add(layers.MaxPooling2D((2,2)))\n",
    "model.add(layers.Flatten())\n",
    "model.add(Dropout(0.2))\n",
    "model.add(layers.Dense(1, activation='sigmoid'))\n",
    "\n",
    "sgd = optimizers.SGD(lr=0.01, decay=1e-6, momentum=0.9, nesterov=True)\n",
    "model.compile(optimizer = sgd,\n",
    "             loss='binary_crossentropy', \n",
    "              metrics = [\"accuracy\"])\n",
    "\n",
    "model.summary()"
   ]
  },
  {
   "cell_type": "code",
   "execution_count": 158,
   "metadata": {},
   "outputs": [
    {
     "name": "stdout",
     "output_type": "stream",
     "text": [
      "time.struct_time(tm_year=2019, tm_mon=3, tm_mday=3, tm_hour=21, tm_min=35, tm_sec=14, tm_wday=6, tm_yday=62, tm_isdst=0)\n",
      "2019-03-03-213514\n"
     ]
    }
   ],
   "source": [
    "from time import time, localtime, strftime\n",
    "# Testing with localtime and strftime\n",
    "print(localtime())\n",
    "print(strftime('%Y-%m-%d-%H%M%S', localtime()))"
   ]
  },
  {
   "cell_type": "markdown",
   "metadata": {},
   "source": [
    "## 6. Training and Validation\n",
    "\n",
    "In training we run 100 epochs with batch size of 32 and given validation data seperately. we correct history of each epochs for plotting the accuracy and loss graph to analyse the models."
   ]
  },
  {
   "cell_type": "code",
   "execution_count": 159,
   "metadata": {},
   "outputs": [
    {
     "name": "stdout",
     "output_type": "stream",
     "text": [
      "Epoch 1/100\n",
      "218/218 [==============================] - 137s 628ms/step - loss: 0.6932 - acc: 0.5016 - val_loss: 0.6925 - val_acc: 0.5181\n",
      "Epoch 2/100\n",
      "218/218 [==============================] - 127s 582ms/step - loss: 0.6929 - acc: 0.5108 - val_loss: 0.6925 - val_acc: 0.5017\n",
      "Epoch 3/100\n",
      "218/218 [==============================] - 129s 590ms/step - loss: 0.6929 - acc: 0.5097 - val_loss: 0.6922 - val_acc: 0.5138\n",
      "Epoch 4/100\n",
      "218/218 [==============================] - 128s 586ms/step - loss: 0.6926 - acc: 0.5205 - val_loss: 0.6910 - val_acc: 0.5384\n",
      "Epoch 5/100\n",
      "218/218 [==============================] - 131s 602ms/step - loss: 0.6923 - acc: 0.5194 - val_loss: 0.6910 - val_acc: 0.5145\n",
      "Epoch 6/100\n",
      "218/218 [==============================] - 127s 583ms/step - loss: 0.6917 - acc: 0.5318 - val_loss: 0.6886 - val_acc: 0.5462\n",
      "Epoch 7/100\n",
      "218/218 [==============================] - 130s 598ms/step - loss: 0.6916 - acc: 0.5173 - val_loss: 0.6883 - val_acc: 0.5610\n",
      "Epoch 8/100\n",
      "218/218 [==============================] - 127s 582ms/step - loss: 0.6902 - acc: 0.5324 - val_loss: 0.6865 - val_acc: 0.5553\n",
      "Epoch 9/100\n",
      "218/218 [==============================] - 125s 574ms/step - loss: 0.6911 - acc: 0.5320 - val_loss: 0.6863 - val_acc: 0.5593\n",
      "Epoch 10/100\n",
      "218/218 [==============================] - 132s 605ms/step - loss: 0.6893 - acc: 0.5368 - val_loss: 0.6827 - val_acc: 0.5650\n",
      "Epoch 11/100\n",
      "218/218 [==============================] - 141s 646ms/step - loss: 0.6897 - acc: 0.5402 - val_loss: 0.6832 - val_acc: 0.5637\n",
      "Epoch 12/100\n",
      "218/218 [==============================] - 141s 648ms/step - loss: 0.6898 - acc: 0.5399 - val_loss: 0.6826 - val_acc: 0.5670\n",
      "Epoch 13/100\n",
      "218/218 [==============================] - 139s 636ms/step - loss: 0.6878 - acc: 0.5412 - val_loss: 0.6848 - val_acc: 0.5654\n",
      "Epoch 14/100\n",
      "218/218 [==============================] - 139s 639ms/step - loss: 0.6901 - acc: 0.5313 - val_loss: 0.6836 - val_acc: 0.5650\n",
      "Epoch 15/100\n",
      "218/218 [==============================] - 139s 639ms/step - loss: 0.6878 - acc: 0.5452 - val_loss: 0.6824 - val_acc: 0.5731\n",
      "Epoch 16/100\n",
      "218/218 [==============================] - 135s 619ms/step - loss: 0.6888 - acc: 0.5382 - val_loss: 0.6833 - val_acc: 0.5694\n",
      "Epoch 17/100\n",
      "218/218 [==============================] - 143s 654ms/step - loss: 0.6891 - acc: 0.5455 - val_loss: 0.6839 - val_acc: 0.5556\n",
      "Epoch 18/100\n",
      "218/218 [==============================] - 133s 612ms/step - loss: 0.6867 - acc: 0.5528 - val_loss: 0.6798 - val_acc: 0.5755\n",
      "Epoch 19/100\n",
      "218/218 [==============================] - 130s 597ms/step - loss: 0.6867 - acc: 0.5570 - val_loss: 0.6831 - val_acc: 0.5576\n",
      "Epoch 20/100\n",
      "218/218 [==============================] - 129s 590ms/step - loss: 0.6859 - acc: 0.5493 - val_loss: 0.6819 - val_acc: 0.5765\n",
      "Epoch 21/100\n",
      "218/218 [==============================] - 127s 580ms/step - loss: 0.6861 - acc: 0.5500 - val_loss: 0.6800 - val_acc: 0.5755\n",
      "Epoch 22/100\n",
      "218/218 [==============================] - 130s 595ms/step - loss: 0.6856 - acc: 0.5552 - val_loss: 0.6788 - val_acc: 0.5819\n",
      "Epoch 23/100\n",
      "218/218 [==============================] - 131s 600ms/step - loss: 0.6830 - acc: 0.5632 - val_loss: 0.6767 - val_acc: 0.5893\n",
      "Epoch 24/100\n",
      "218/218 [==============================] - 126s 578ms/step - loss: 0.6838 - acc: 0.5616 - val_loss: 0.6793 - val_acc: 0.5677\n",
      "Epoch 25/100\n",
      "218/218 [==============================] - 125s 576ms/step - loss: 0.6851 - acc: 0.5598 - val_loss: 0.6779 - val_acc: 0.5792\n",
      "Epoch 26/100\n",
      "218/218 [==============================] - 126s 579ms/step - loss: 0.6805 - acc: 0.5640 - val_loss: 0.6747 - val_acc: 0.5795\n",
      "Epoch 27/100\n",
      "218/218 [==============================] - 129s 591ms/step - loss: 0.6823 - acc: 0.5583 - val_loss: 0.6748 - val_acc: 0.5920\n",
      "Epoch 28/100\n",
      "218/218 [==============================] - 133s 611ms/step - loss: 0.6849 - acc: 0.5554 - val_loss: 0.6839 - val_acc: 0.5421\n",
      "Epoch 29/100\n",
      "218/218 [==============================] - 132s 604ms/step - loss: 0.6867 - acc: 0.5458 - val_loss: 0.6767 - val_acc: 0.5873\n",
      "Epoch 30/100\n",
      "218/218 [==============================] - 128s 589ms/step - loss: 0.6827 - acc: 0.5595 - val_loss: 0.6755 - val_acc: 0.5883\n",
      "Epoch 31/100\n",
      "218/218 [==============================] - 128s 586ms/step - loss: 0.6821 - acc: 0.5688 - val_loss: 0.6743 - val_acc: 0.5927\n",
      "Epoch 32/100\n",
      "218/218 [==============================] - 127s 580ms/step - loss: 0.6831 - acc: 0.5622 - val_loss: 0.6818 - val_acc: 0.5502\n",
      "Epoch 33/100\n",
      "218/218 [==============================] - 131s 599ms/step - loss: 0.6835 - acc: 0.5576 - val_loss: 0.6768 - val_acc: 0.5782\n",
      "Epoch 34/100\n",
      "218/218 [==============================] - 126s 577ms/step - loss: 0.6798 - acc: 0.5642 - val_loss: 0.6752 - val_acc: 0.5852\n",
      "Epoch 35/100\n",
      "218/218 [==============================] - 127s 584ms/step - loss: 0.6809 - acc: 0.5645 - val_loss: 0.6850 - val_acc: 0.5687\n",
      "Epoch 36/100\n",
      "218/218 [==============================] - 128s 588ms/step - loss: 0.6797 - acc: 0.5668 - val_loss: 0.6768 - val_acc: 0.5839\n",
      "Epoch 37/100\n",
      "218/218 [==============================] - 126s 578ms/step - loss: 0.6797 - acc: 0.5666 - val_loss: 0.6747 - val_acc: 0.5832\n",
      "Epoch 38/100\n",
      "218/218 [==============================] - 126s 577ms/step - loss: 0.6820 - acc: 0.5548 - val_loss: 0.6805 - val_acc: 0.5768\n",
      "Epoch 39/100\n",
      "218/218 [==============================] - 130s 597ms/step - loss: 0.6816 - acc: 0.5689 - val_loss: 0.6714 - val_acc: 0.5954\n",
      "Epoch 40/100\n",
      "218/218 [==============================] - 126s 579ms/step - loss: 0.6789 - acc: 0.5780 - val_loss: 0.6871 - val_acc: 0.5664\n",
      "Epoch 41/100\n",
      "218/218 [==============================] - 126s 580ms/step - loss: 0.6810 - acc: 0.5693 - val_loss: 0.6713 - val_acc: 0.5906\n",
      "Epoch 42/100\n",
      "218/218 [==============================] - 126s 577ms/step - loss: 0.6827 - acc: 0.5666 - val_loss: 0.6942 - val_acc: 0.5553\n",
      "Epoch 43/100\n",
      "218/218 [==============================] - 125s 573ms/step - loss: 0.6833 - acc: 0.5538 - val_loss: 0.6794 - val_acc: 0.5559\n",
      "Epoch 44/100\n",
      "218/218 [==============================] - 127s 582ms/step - loss: 0.6857 - acc: 0.5526 - val_loss: 0.6781 - val_acc: 0.5819\n",
      "Epoch 45/100\n",
      "218/218 [==============================] - 127s 581ms/step - loss: 0.6793 - acc: 0.5721 - val_loss: 0.6759 - val_acc: 0.5758\n",
      "Epoch 46/100\n",
      "218/218 [==============================] - 126s 577ms/step - loss: 0.6803 - acc: 0.5674 - val_loss: 0.6703 - val_acc: 0.5974\n",
      "Epoch 47/100\n",
      "218/218 [==============================] - 125s 575ms/step - loss: 0.6749 - acc: 0.5755 - val_loss: 0.6773 - val_acc: 0.5660\n",
      "Epoch 48/100\n",
      "218/218 [==============================] - 128s 587ms/step - loss: 0.6815 - acc: 0.5673 - val_loss: 0.6829 - val_acc: 0.5735\n",
      "Epoch 49/100\n",
      "218/218 [==============================] - 126s 579ms/step - loss: 0.6784 - acc: 0.5796 - val_loss: 0.6687 - val_acc: 0.5984\n",
      "Epoch 50/100\n",
      "218/218 [==============================] - 127s 582ms/step - loss: 0.6772 - acc: 0.5749 - val_loss: 0.6720 - val_acc: 0.5927\n",
      "Epoch 51/100\n",
      "218/218 [==============================] - 129s 590ms/step - loss: 0.6751 - acc: 0.5781 - val_loss: 0.6754 - val_acc: 0.5745\n",
      "Epoch 52/100\n",
      "218/218 [==============================] - 130s 596ms/step - loss: 0.6777 - acc: 0.5722 - val_loss: 0.6733 - val_acc: 0.5866\n",
      "Epoch 53/100\n",
      "218/218 [==============================] - 126s 576ms/step - loss: 0.6842 - acc: 0.5571 - val_loss: 0.6783 - val_acc: 0.5728\n",
      "Epoch 54/100\n",
      "218/218 [==============================] - 134s 614ms/step - loss: 0.6806 - acc: 0.5710 - val_loss: 0.6707 - val_acc: 0.5954\n",
      "Epoch 55/100\n",
      "218/218 [==============================] - 126s 580ms/step - loss: 0.6777 - acc: 0.5766 - val_loss: 0.6724 - val_acc: 0.5984\n",
      "Epoch 56/100\n",
      "218/218 [==============================] - 125s 573ms/step - loss: 0.6839 - acc: 0.5654 - val_loss: 0.6786 - val_acc: 0.5856\n",
      "Epoch 57/100\n",
      "218/218 [==============================] - 124s 569ms/step - loss: 0.6742 - acc: 0.5832 - val_loss: 0.6696 - val_acc: 0.5991\n",
      "Epoch 58/100\n",
      "218/218 [==============================] - 124s 569ms/step - loss: 0.6820 - acc: 0.5582 - val_loss: 0.6734 - val_acc: 0.5970\n",
      "Epoch 59/100\n",
      "218/218 [==============================] - 124s 571ms/step - loss: 0.6804 - acc: 0.5677 - val_loss: 0.6723 - val_acc: 0.5943\n",
      "Epoch 60/100\n"
     ]
    },
    {
     "name": "stdout",
     "output_type": "stream",
     "text": [
      "218/218 [==============================] - 134s 615ms/step - loss: 0.6794 - acc: 0.5651 - val_loss: 0.6708 - val_acc: 0.5984\n",
      "Epoch 61/100\n",
      "218/218 [==============================] - 131s 600ms/step - loss: 0.6823 - acc: 0.5663 - val_loss: 0.6743 - val_acc: 0.5889\n",
      "Epoch 62/100\n",
      "218/218 [==============================] - 134s 616ms/step - loss: 0.6796 - acc: 0.5720 - val_loss: 0.6849 - val_acc: 0.5350\n",
      "Epoch 63/100\n",
      "218/218 [==============================] - 134s 616ms/step - loss: 0.6760 - acc: 0.5799 - val_loss: 0.6706 - val_acc: 0.5900\n",
      "Epoch 64/100\n",
      "218/218 [==============================] - 132s 606ms/step - loss: 0.6768 - acc: 0.5740 - val_loss: 0.6717 - val_acc: 0.5829\n",
      "Epoch 65/100\n",
      "218/218 [==============================] - 132s 606ms/step - loss: 0.6748 - acc: 0.5812 - val_loss: 0.6885 - val_acc: 0.5515\n",
      "Epoch 66/100\n",
      "218/218 [==============================] - 132s 607ms/step - loss: 0.6819 - acc: 0.5661 - val_loss: 0.6759 - val_acc: 0.5738\n",
      "Epoch 67/100\n",
      "218/218 [==============================] - 132s 608ms/step - loss: 0.6750 - acc: 0.5835 - val_loss: 0.6784 - val_acc: 0.5583\n",
      "Epoch 68/100\n",
      "218/218 [==============================] - 132s 606ms/step - loss: 0.6722 - acc: 0.5886 - val_loss: 0.6695 - val_acc: 0.6001\n",
      "Epoch 69/100\n",
      "218/218 [==============================] - 128s 589ms/step - loss: 0.6767 - acc: 0.5727 - val_loss: 0.6671 - val_acc: 0.5950\n",
      "Epoch 70/100\n",
      "218/218 [==============================] - 129s 592ms/step - loss: 0.6727 - acc: 0.5816 - val_loss: 0.6715 - val_acc: 0.5795\n",
      "Epoch 71/100\n",
      "218/218 [==============================] - 128s 589ms/step - loss: 0.6737 - acc: 0.5845 - val_loss: 0.6714 - val_acc: 0.5883\n",
      "Epoch 72/100\n",
      "218/218 [==============================] - 128s 588ms/step - loss: 0.6730 - acc: 0.5822 - val_loss: 0.6649 - val_acc: 0.5980\n",
      "Epoch 73/100\n",
      "218/218 [==============================] - 126s 580ms/step - loss: 0.6735 - acc: 0.5837 - val_loss: 0.6655 - val_acc: 0.6007\n",
      "Epoch 74/100\n",
      "218/218 [==============================] - 127s 581ms/step - loss: 0.6705 - acc: 0.5902 - val_loss: 0.6651 - val_acc: 0.5940\n",
      "Epoch 75/100\n",
      "218/218 [==============================] - 127s 582ms/step - loss: 0.6693 - acc: 0.5918 - val_loss: 0.6625 - val_acc: 0.6044\n",
      "Epoch 76/100\n",
      "218/218 [==============================] - 126s 576ms/step - loss: 0.6726 - acc: 0.5809 - val_loss: 0.6677 - val_acc: 0.5933\n",
      "Epoch 77/100\n",
      "218/218 [==============================] - 123s 566ms/step - loss: 0.6698 - acc: 0.5870 - val_loss: 0.6604 - val_acc: 0.6051\n",
      "Epoch 78/100\n",
      "218/218 [==============================] - 123s 565ms/step - loss: 0.6665 - acc: 0.5922 - val_loss: 0.6715 - val_acc: 0.5755\n",
      "Epoch 79/100\n",
      "218/218 [==============================] - 125s 572ms/step - loss: 0.6660 - acc: 0.5977 - val_loss: 0.6670 - val_acc: 0.5863\n",
      "Epoch 80/100\n",
      "218/218 [==============================] - 124s 571ms/step - loss: 0.6677 - acc: 0.5960 - val_loss: 0.6700 - val_acc: 0.5785\n",
      "Epoch 81/100\n",
      "218/218 [==============================] - 123s 566ms/step - loss: 0.6699 - acc: 0.5882 - val_loss: 0.6912 - val_acc: 0.5748\n",
      "Epoch 82/100\n",
      "218/218 [==============================] - 124s 569ms/step - loss: 0.6741 - acc: 0.5830 - val_loss: 0.6643 - val_acc: 0.6031\n",
      "Epoch 83/100\n",
      "218/218 [==============================] - 123s 566ms/step - loss: 0.6696 - acc: 0.5884 - val_loss: 0.6621 - val_acc: 0.5997\n",
      "Epoch 84/100\n",
      "218/218 [==============================] - 123s 566ms/step - loss: 0.6656 - acc: 0.6018 - val_loss: 0.6589 - val_acc: 0.6048\n",
      "Epoch 85/100\n",
      "218/218 [==============================] - 124s 567ms/step - loss: 0.6688 - acc: 0.5930 - val_loss: 0.6589 - val_acc: 0.6149\n",
      "Epoch 86/100\n",
      "218/218 [==============================] - 124s 567ms/step - loss: 0.6687 - acc: 0.5854 - val_loss: 0.6641 - val_acc: 0.5980\n",
      "Epoch 87/100\n",
      "218/218 [==============================] - 124s 568ms/step - loss: 0.6655 - acc: 0.5970 - val_loss: 0.6628 - val_acc: 0.5940\n",
      "Epoch 88/100\n",
      "218/218 [==============================] - 125s 572ms/step - loss: 0.6649 - acc: 0.5989 - val_loss: 0.6583 - val_acc: 0.6146\n",
      "Epoch 89/100\n",
      "218/218 [==============================] - 124s 568ms/step - loss: 0.6669 - acc: 0.5886 - val_loss: 0.6613 - val_acc: 0.5950\n",
      "Epoch 90/100\n",
      "218/218 [==============================] - 124s 568ms/step - loss: 0.6690 - acc: 0.5865 - val_loss: 0.6538 - val_acc: 0.6203\n",
      "Epoch 91/100\n",
      "218/218 [==============================] - 124s 567ms/step - loss: 0.6651 - acc: 0.5981 - val_loss: 0.6574 - val_acc: 0.6159\n",
      "Epoch 92/100\n",
      "218/218 [==============================] - 124s 567ms/step - loss: 0.6653 - acc: 0.5973 - val_loss: 0.6652 - val_acc: 0.5896\n",
      "Epoch 93/100\n",
      "218/218 [==============================] - 124s 567ms/step - loss: 0.6668 - acc: 0.5934 - val_loss: 0.6577 - val_acc: 0.6102\n",
      "Epoch 94/100\n",
      "218/218 [==============================] - 125s 572ms/step - loss: 0.6661 - acc: 0.5954 - val_loss: 0.6810 - val_acc: 0.5670\n",
      "Epoch 95/100\n",
      "218/218 [==============================] - 124s 568ms/step - loss: 0.6611 - acc: 0.6036 - val_loss: 0.6643 - val_acc: 0.6146\n",
      "Epoch 96/100\n",
      "218/218 [==============================] - 124s 567ms/step - loss: 0.6622 - acc: 0.6060 - val_loss: 0.6496 - val_acc: 0.6226\n",
      "Epoch 97/100\n",
      "218/218 [==============================] - 124s 567ms/step - loss: 0.6667 - acc: 0.5951 - val_loss: 0.6706 - val_acc: 0.5708\n",
      "Epoch 98/100\n",
      "218/218 [==============================] - 124s 567ms/step - loss: 0.6641 - acc: 0.5967 - val_loss: 0.6616 - val_acc: 0.6034\n",
      "Epoch 99/100\n",
      "218/218 [==============================] - 124s 570ms/step - loss: 0.6591 - acc: 0.6062 - val_loss: 0.6626 - val_acc: 0.5957\n",
      "Epoch 100/100\n",
      "218/218 [==============================] - 124s 567ms/step - loss: 0.6592 - acc: 0.6046 - val_loss: 0.6750 - val_acc: 0.5691\n",
      "\n",
      "Model saved to file: Case2-2019-03-03-213516.h5\n",
      "\n",
      "Total elapsed time for 100 epochs: 10:33:32\n",
      "Average time per epoch:             07:02:08\n"
     ]
    }
   ],
   "source": [
    "# Calculate how many batches are needed to go through whole train and validation set\n",
    "STEP_SIZE_TRAIN = SPLIT // BATCH_SIZE\n",
    "STEP_SIZE_VALID = (DF_SIZE - SPLIT) // BATCH_SIZE\n",
    "N = 100 # Number of epochs\n",
    "\n",
    "# Train and count time\n",
    "model_name = strftime('Case2-%Y-%m-%d-%H%M%S.h5', localtime())\n",
    "t1 = time()\n",
    "h = model.fit_generator(generator = train_flow  ,\n",
    "                    steps_per_epoch = STEP_SIZE_TRAIN,\n",
    "                    validation_data = valid_flow,\n",
    "                    validation_steps = STEP_SIZE_VALID,\n",
    "                    epochs = EPOCHS,\n",
    "                    verbose = 1)\n",
    "\n",
    "t2 = time()\n",
    "elapsed_time = (t2 - t1)\n",
    "\n",
    "# Save the model\n",
    "model.save(model_name)\n",
    "print('')\n",
    "print('Model saved to file:', model_name)\n",
    "print('')\n",
    "\n",
    "# Print the total elapsed time and average time per epoch in format (hh:mm:ss)\n",
    "t_total = strftime('%H:%M:%S', localtime(t2 - t1))\n",
    "t_per_e = strftime('%H:%M:%S', localtime((t2 - t1)/N))\n",
    "print('Total elapsed time for {:d} epochs: {:s}'.format(N, t_total))\n",
    "print('Average time per epoch:             {:s}'.format(t_per_e))\n",
    "\n",
    "# Save the history\n",
    "import pickle\n",
    "with open('trainHistory', 'wb') as file_pi:\n",
    "    pickle.dump(h.history, file_pi)"
   ]
  },
  {
   "cell_type": "markdown",
   "metadata": {},
   "source": [
    "## 7. Evaluation"
   ]
  },
  {
   "cell_type": "markdown",
   "metadata": {},
   "source": [
    "In evaluation we calculate the accuracy by using accuracy = number of collect prediction/ Total number of prediction, and we also construct the confusion metrix. After that, we calculate the precision, recall and f-score."
   ]
  },
  {
   "cell_type": "code",
   "execution_count": 160,
   "metadata": {},
   "outputs": [
    {
     "name": "stdout",
     "output_type": "stream",
     "text": [
      "Validation flow:\n",
      "Found 3000 images belonging to 2 classes.\n"
     ]
    }
   ],
   "source": [
    "# Validation flow\n",
    "print('Validation flow:')\n",
    "valid_flow = valid_generator.flow_from_dataframe(\n",
    "    dataframe = df[SPLIT:], # read data frame from SPLIT to END\n",
    "    directory = dest_dir,\n",
    "    has_ext = False,\n",
    "    x_col = 'image', \n",
    "    y_col = 'level', \n",
    "    target_size = (IMAGE_SIZE, IMAGE_SIZE), \n",
    "    classes = ['0', '1'], \n",
    "    class_mode = 'binary', \n",
    "    batch_size = BATCH_SIZE, \n",
    "    shuffle = False)"
   ]
  },
  {
   "cell_type": "code",
   "execution_count": 161,
   "metadata": {},
   "outputs": [],
   "source": [
    "from sklearn.metrics import confusion_matrix, cohen_kappa_score, classification_report\n",
    "from sklearn.metrics import accuracy_score\n",
    "\n",
    "\n",
    "# Function to display confusion matrix, classification report and final accuracy\n",
    "def display_results(m, flow):\n",
    "    # Get the true and predicted values\n",
    "    y_true = flow.classes\n",
    "    predict = m.predict_generator(flow, len(flow))\n",
    "    y_pred = predict > 0.5\n",
    "\n",
    "    # Calculate and print the metrics results\n",
    "\n",
    "    with warnings.catch_warnings():\n",
    "        warnings.simplefilter(\"ignore\")\n",
    "    \n",
    "        cm = confusion_matrix(y_true, y_pred)\n",
    "        print('Confusion matrix:')\n",
    "        print(cm)\n",
    "        print('')\n",
    "\n",
    "        a = accuracy_score(y_true, y_pred)\n",
    "        print('Accuracy: {:.4f}'.format(a))\n",
    "        print('')\n",
    "\n",
    "        cr = classification_report(y_true, y_pred)\n",
    "        print('Classification report:')\n",
    "        print(cr)\n"
   ]
  },
  {
   "cell_type": "code",
   "execution_count": 162,
   "metadata": {},
   "outputs": [
    {
     "name": "stdout",
     "output_type": "stream",
     "text": [
      "RESULTS FOR FINAL MODEL\n",
      "VALIDATION SET\n",
      "Confusion matrix:\n",
      "[[ 278 1198]\n",
      " [  97 1427]]\n",
      "\n",
      "Accuracy: 0.5683\n",
      "\n",
      "Classification report:\n",
      "              precision    recall  f1-score   support\n",
      "\n",
      "           0       0.74      0.19      0.30      1476\n",
      "           1       0.54      0.94      0.69      1524\n",
      "\n",
      "   micro avg       0.57      0.57      0.57      3000\n",
      "   macro avg       0.64      0.56      0.49      3000\n",
      "weighted avg       0.64      0.57      0.50      3000\n",
      "\n"
     ]
    }
   ],
   "source": [
    "print('RESULTS FOR FINAL MODEL')\n",
    "print('VALIDATION SET')\n",
    "display_results(model, valid_flow)"
   ]
  },
  {
   "cell_type": "markdown",
   "metadata": {},
   "source": [
    "## 8. Results and Discussion"
   ]
  },
  {
   "cell_type": "markdown",
   "metadata": {},
   "source": [
    "Now we visualize the training results. First the accuracy and next loss-function.<br>\n",
    "As you can see the accuracy graph below some time we getting a little over fitting model, for the loss function graph our model has quite high learning rate belong to the graph."
   ]
  },
  {
   "cell_type": "code",
   "execution_count": 163,
   "metadata": {},
   "outputs": [
    {
     "data": {
      "image/png": "[encoded data removed]",
      "text/plain": [
       "<Figure size 1080x504 with 2 Axes>"
      ]
     },
     "metadata": {
      "needs_background": "light"
     },
     "output_type": "display_data"
    }
   ],
   "source": [
    "%matplotlib inline\n",
    "import matplotlib.pyplot as plt\n",
    "import numpy as np\n",
    "\n",
    "epochs = np.arange(N) + 1.0\n",
    "\n",
    "f, (ax1, ax2) = plt.subplots(1, 2, figsize = (15,7))\n",
    "\n",
    "def plotter(ax, epochs, h, variable):\n",
    "    ax.plot(epochs, h.history[variable], label = variable)\n",
    "    ax.plot(epochs, h.history['val_' + variable], label = 'val_'+variable)\n",
    "    ax.set_xlabel('Epochs')\n",
    "    ax.legend()\n",
    "\n",
    "plotter(ax1, epochs, h, 'acc')\n",
    "plotter(ax2, epochs, h, 'loss')\n",
    "plt.show()"
   ]
  },
  {
   "cell_type": "code",
   "execution_count": 164,
   "metadata": {},
   "outputs": [
    {
     "data": {
      "image/png": "[encoded data removed]",
      "text/plain": [
       "<Figure size 432x288 with 1 Axes>"
      ]
     },
     "metadata": {
      "needs_background": "light"
     },
     "output_type": "display_data"
    }
   ],
   "source": [
    "# Calculate and plot ROC-curve\n",
    "# See: https://scikit-learn.org/stable/modules/generated/sklearn.metrics.roc_curve.html\n",
    "from sklearn.metrics import roc_curve\n",
    "\n",
    "y_true =  valid_flow.classes\n",
    "predict = model.predict_generator(valid_flow, len(valid_flow))\n",
    "\n",
    "fpr, tpr, thresholds = roc_curve(y_true, predict)\n",
    "\n",
    "plt.plot(fpr, tpr, color='darkorange', lw = 2)\n",
    "plt.plot([0, 1], [0, 1], color='navy', lw = 2, linestyle='--')\n",
    "plt.xlim([0.0, 1.0])\n",
    "plt.ylim([0.0, 1.05])\n",
    "plt.xlabel('False Positive Rate')\n",
    "plt.ylabel('True Positive Rate')\n",
    "plt.title('Receiver operating characteristic curve')\n",
    "plt.show()"
   ]
  },
  {
   "cell_type": "code",
   "execution_count": 165,
   "metadata": {},
   "outputs": [
    {
     "name": "stdout",
     "output_type": "stream",
     "text": [
      "Test flow:\n",
      "Found 10000 images belonging to 2 classes.\n"
     ]
    }
   ],
   "source": [
    "# Test flow\n",
    "print('Test flow:')\n",
    "test_flow = test_generator.flow_from_dataframe(\n",
    "    dataframe = df_test[:DF_SIZE], # read data frame from SPLIT to END\n",
    "    directory = dest_test_dir,\n",
    "    has_ext = False,\n",
    "    x_col = 'image', \n",
    "    y_col = 'level', \n",
    "    target_size = (IMAGE_SIZE, IMAGE_SIZE), \n",
    "    classes = ['0', '1'], \n",
    "    class_mode = 'binary', \n",
    "    batch_size = 32, \n",
    "    shuffle = False)"
   ]
  },
  {
   "cell_type": "code",
   "execution_count": 166,
   "metadata": {},
   "outputs": [
    {
     "name": "stdout",
     "output_type": "stream",
     "text": [
      "Accuracy: \n",
      "0.5431\n"
     ]
    }
   ],
   "source": [
    "test_loss, test_acc = model.evaluate_generator(test_flow, len(test_flow))\n",
    "print(\"Accuracy: \")\n",
    "print(test_acc)"
   ]
  },
  {
   "cell_type": "markdown",
   "metadata": {},
   "source": [
    "## 8. Conclusions"
   ]
  },
  {
   "cell_type": "markdown",
   "metadata": {},
   "source": [
    "&emsp; In conclusion, it quite hard to build the good model with small data set at first time. We decide to use the new bigger data set from kaggle to train our models. But after we have bigger dataset we face with new problem that is the data is very bias, our new dataset have sample in class 0 around 70% of whole data. It make our model didn't learn but it guess the result to 0 and coome up with high accuracy around 70%. So, we decided to balance our data for training by resampling. After that, the problem was solve. I try to build many model to find the best model that have highest accuracy. After playing with many model and searching what model that other people use for image classification we found the best 3 models base on high accuracy and less false positive.<br>\n",
    "&emsp; The first one is model that have 5 convolution layers each layer use 32 filters with ReLU as activation function, which seperate 2  and 3 convolution layers by one 2x2 maxpooling layers and then connected to one fully connect layer with sigmoid as activation function. The result is we got the acceptable accuracy which around 62% and this moodel is quite over-fitting.<br> \n",
    "&emsp; Second model, it has 6 convolution layers first two layers use 32 filters next 2 layers use 64 filters  and the last two layers use 128 filters with ReLU as activation function, which seperate 2 and 2 and 2 convolution layers by one 2x2 maxpooling layers and then connected to two fully connect layers with sigmoid as activation function. The result is we got a bit lower accuracy from first model around 73% but this model be the over-fitting<br>\n",
    "&emsp; Third model, this is our best model that we found. The model has 14 layers (8 convolution layers, 5 MaxPooling layers, 1 fully connection layer).\n",
    " The input(299x299 image size with 3 layer of RGB) is connected to convolution layer with 32 filters(3x3x3), then connected the same two layers with filter(3x3x32), which connect to 2x2 maxpooling layer with stride = 2, \n",
    " it connected to the next convolution layer with 64 filters(3x3x32), which connect to 2x2 maxpooling layer with stride = 2,\n",
    " then connected to the next two convolution layers with 128 filters(3x3x64) and 128 filters(3x3x128) respectively, which connect to 2x2 maxpooling layer with stride = 2, connected to the next convolution layers with 256 filters(3x3x128), which connect to 2x2 maxpooling layer with stride = 2,\n",
    " then connected to the next convolution layers with 512 filters(3x3x256) that all convolution layers use ReLU(Rectified Linear Unit) as activation function, which connect to 2x2 maxpooling layer with stride = 2,\n",
    " then connected to flatten layer that will flat the large metrix to one vector, which fully connected to 25089 neurons which use sigmoid as activation function and 1 output neurons That is separated by 1 dropout layer for prevent the over-fitting as show with `model.summary()` above. The result that we got quite high accuracy that is around 85% and not found the over-fitting. For all model we train with 100 epochs and batch size of 32. Our models have quite high learing rate. But for our best model if we train with higher number of epochs it will have high accuracy.<br>\n",
    "&emsp; for this work we had study and know more about image classification with using convolution, and come with the small and simple model that have satisfied accuracy and false positive. For some big model it doesn't have high accuracy every time base on many parameters(number of data, epochs, batch size, step per epoch etc.)."
   ]
  },
  {
   "cell_type": "code",
   "execution_count": null,
   "metadata": {},
   "outputs": [],
   "source": []
  }
 ],
 "metadata": {
  "kernelspec": {
   "display_name": "Python 3",
   "language": "python",
   "name": "python3"
  },
  "language_info": {
   "codemirror_mode": {
    "name": "ipython",
    "version": 3
   },
   "file_extension": ".py",
   "mimetype": "text/x-python",
   "name": "python",
   "nbconvert_exporter": "python",
   "pygments_lexer": "ipython3",
   "version": "3.6.7"
  }
 },
 "nbformat": 4,
 "nbformat_minor": 2
}

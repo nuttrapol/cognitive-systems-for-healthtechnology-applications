{
 "cells": [
  {
   "cell_type": "markdown",
   "metadata": {
    "_uuid": "85bf8fa8e2f29ecf3da543b19e786a7630942394"
   },
   "source": [
    "# Case 3 Patient Drug Review\n",
    "Nuttapol Saiboonruen<br>\n",
    "Last edited: 17.03.2018<br>\n",
    "Cognitive Systems for Health Technology Applications<br>\n",
    "[Helsinki Metropolia University of Applied Sciences](https://www.metropolia.fi/en)\n"
   ]
  },
  {
   "cell_type": "markdown",
   "metadata": {
    "_uuid": "8c6d04e7cf3a5898034495ad12bc0998f9126cf9"
   },
   "source": [
    "## 1. Objectives\n",
    "1. Learn how to use neural networks to process text data and predict ratings associated to the text.\n",
    "3. Getting high accuracy(85-90%) of the model that can predict the ratings.\n",
    "4. Minimize over-fitting of the model."
   ]
  },
  {
   "cell_type": "markdown",
   "metadata": {},
   "source": [
    "## 2. Required libraries"
   ]
  },
  {
   "cell_type": "markdown",
   "metadata": {},
   "source": [
    "### Import libraries\n",
    "First we import all libraries (or modules) and functions needed in this session.\n",
    "\n",
    "- `import numpy as np` imports the numpy library and we can use the short notation `np`\n",
    "- `import pandas as pd` imports the pandas library and we can use the short notation `pd`\n",
    "- `import matplotlib.pyplot as plt` imports the matplotlib library and we can use the short notation `plt`\n",
    "-  `from sklearn ...` we import some special functions from scikit-learn module\n",
    "- `from keras ...` is used for special keras functions\n",
    "\n"
   ]
  },
  {
   "cell_type": "code",
   "execution_count": 1,
   "metadata": {
    "_cell_guid": "b1076dfc-b9ad-4769-8c92-a6c4dae69d19",
    "_uuid": "8f2839f25d086af736a60e9eeb907d3b93b6e0e5"
   },
   "outputs": [
    {
     "name": "stdout",
     "output_type": "stream",
     "text": [
      "['drugsComTest_raw.csv', 'drugsComTrain_raw.csv']\n"
     ]
    }
   ],
   "source": [
    "# Read basic libraries\n",
    "import numpy as np # linear algebra\n",
    "import pandas as pd # data processing, CSV file I/O (e.g. pd.read_csv)\n",
    "\n",
    "import os\n",
    "\n",
    "# Show files in directory\n",
    "print(os.listdir(\"./data\"))"
   ]
  },
  {
   "cell_type": "markdown",
   "metadata": {
    "_uuid": "17aa08923c774f2889c5d1b13513d039b4775092"
   },
   "source": [
    "## 3. Data description and preprocessing"
   ]
  },
  {
   "cell_type": "markdown",
   "metadata": {},
   "source": [
    "### Import the data\n",
    "First of all we import the data cleveland from the data source as raw data.<br>\n",
    "The `date.head()` shows the first 5 rows of the data, The `data.tail()` shows the last 5 rows of the data "
   ]
  },
  {
   "cell_type": "code",
   "execution_count": 2,
   "metadata": {
    "_cell_guid": "79c7e3d0-c299-4dcb-8224-4455121ee9b0",
    "_uuid": "d629ff2d2480ee46fbb7e2d37f6b5fab8052498a"
   },
   "outputs": [],
   "source": [
    "# Read the training and testing data\n",
    "data = pd.read_csv('./data/drugsComTrain_raw.csv')\n",
    "test = pd.read_csv('./data/drugsComTest_raw.csv')\n",
    "\n",
    "# List only reviews of train dataset\n",
    "train_review=data['review'].values"
   ]
  },
  {
   "cell_type": "code",
   "execution_count": 3,
   "metadata": {},
   "outputs": [
    {
     "data": {
      "text/plain": [
       "1894"
      ]
     },
     "execution_count": 3,
     "metadata": {},
     "output_type": "execute_result"
    }
   ],
   "source": [
    "# find max lenght of sentences in train dataset\n",
    "max_lenght = max([len(s.split()) for s in train_review])\n",
    "max_lenght"
   ]
  },
  {
   "cell_type": "code",
   "execution_count": 4,
   "metadata": {
    "_uuid": "050c2794ae8b5dfd5681f5a1b1065fe6030b1ab6"
   },
   "outputs": [
    {
     "data": {
      "text/html": [
       "<div>\n",
       "<style scoped>\n",
       "    .dataframe tbody tr th:only-of-type {\n",
       "        vertical-align: middle;\n",
       "    }\n",
       "\n",
       "    .dataframe tbody tr th {\n",
       "        vertical-align: top;\n",
       "    }\n",
       "\n",
       "    .dataframe thead th {\n",
       "        text-align: right;\n",
       "    }\n",
       "</style>\n",
       "<table border=\"1\" class=\"dataframe\">\n",
       "  <thead>\n",
       "    <tr style=\"text-align: right;\">\n",
       "      <th></th>\n",
       "      <th>uniqueID</th>\n",
       "      <th>drugName</th>\n",
       "      <th>condition</th>\n",
       "      <th>review</th>\n",
       "      <th>rating</th>\n",
       "      <th>date</th>\n",
       "      <th>usefulCount</th>\n",
       "    </tr>\n",
       "  </thead>\n",
       "  <tbody>\n",
       "    <tr>\n",
       "      <th>0</th>\n",
       "      <td>206461</td>\n",
       "      <td>Valsartan</td>\n",
       "      <td>Left Ventricular Dysfunction</td>\n",
       "      <td>\"It has no side effect, I take it in combinati...</td>\n",
       "      <td>9</td>\n",
       "      <td>20-May-12</td>\n",
       "      <td>27</td>\n",
       "    </tr>\n",
       "    <tr>\n",
       "      <th>1</th>\n",
       "      <td>95260</td>\n",
       "      <td>Guanfacine</td>\n",
       "      <td>ADHD</td>\n",
       "      <td>\"My son is halfway through his fourth week of ...</td>\n",
       "      <td>8</td>\n",
       "      <td>27-Apr-10</td>\n",
       "      <td>192</td>\n",
       "    </tr>\n",
       "    <tr>\n",
       "      <th>2</th>\n",
       "      <td>92703</td>\n",
       "      <td>Lybrel</td>\n",
       "      <td>Birth Control</td>\n",
       "      <td>\"I used to take another oral contraceptive, wh...</td>\n",
       "      <td>5</td>\n",
       "      <td>14-Dec-09</td>\n",
       "      <td>17</td>\n",
       "    </tr>\n",
       "    <tr>\n",
       "      <th>3</th>\n",
       "      <td>138000</td>\n",
       "      <td>Ortho Evra</td>\n",
       "      <td>Birth Control</td>\n",
       "      <td>\"This is my first time using any form of birth...</td>\n",
       "      <td>8</td>\n",
       "      <td>3-Nov-15</td>\n",
       "      <td>10</td>\n",
       "    </tr>\n",
       "    <tr>\n",
       "      <th>4</th>\n",
       "      <td>35696</td>\n",
       "      <td>Buprenorphine / naloxone</td>\n",
       "      <td>Opiate Dependence</td>\n",
       "      <td>\"Suboxone has completely turned my life around...</td>\n",
       "      <td>9</td>\n",
       "      <td>27-Nov-16</td>\n",
       "      <td>37</td>\n",
       "    </tr>\n",
       "  </tbody>\n",
       "</table>\n",
       "</div>"
      ],
      "text/plain": [
       "   uniqueID                  drugName                     condition  \\\n",
       "0    206461                 Valsartan  Left Ventricular Dysfunction   \n",
       "1     95260                Guanfacine                          ADHD   \n",
       "2     92703                    Lybrel                 Birth Control   \n",
       "3    138000                Ortho Evra                 Birth Control   \n",
       "4     35696  Buprenorphine / naloxone             Opiate Dependence   \n",
       "\n",
       "                                              review  rating       date  \\\n",
       "0  \"It has no side effect, I take it in combinati...       9  20-May-12   \n",
       "1  \"My son is halfway through his fourth week of ...       8  27-Apr-10   \n",
       "2  \"I used to take another oral contraceptive, wh...       5  14-Dec-09   \n",
       "3  \"This is my first time using any form of birth...       8   3-Nov-15   \n",
       "4  \"Suboxone has completely turned my life around...       9  27-Nov-16   \n",
       "\n",
       "   usefulCount  \n",
       "0           27  \n",
       "1          192  \n",
       "2           17  \n",
       "3           10  \n",
       "4           37  "
      ]
     },
     "execution_count": 4,
     "metadata": {},
     "output_type": "execute_result"
    }
   ],
   "source": [
    "# Show the head of the data\n",
    "data.head()"
   ]
  },
  {
   "cell_type": "code",
   "execution_count": 5,
   "metadata": {},
   "outputs": [
    {
     "data": {
      "text/html": [
       "<div>\n",
       "<style scoped>\n",
       "    .dataframe tbody tr th:only-of-type {\n",
       "        vertical-align: middle;\n",
       "    }\n",
       "\n",
       "    .dataframe tbody tr th {\n",
       "        vertical-align: top;\n",
       "    }\n",
       "\n",
       "    .dataframe thead th {\n",
       "        text-align: right;\n",
       "    }\n",
       "</style>\n",
       "<table border=\"1\" class=\"dataframe\">\n",
       "  <thead>\n",
       "    <tr style=\"text-align: right;\">\n",
       "      <th></th>\n",
       "      <th>uniqueID</th>\n",
       "      <th>drugName</th>\n",
       "      <th>condition</th>\n",
       "      <th>review</th>\n",
       "      <th>rating</th>\n",
       "      <th>date</th>\n",
       "      <th>usefulCount</th>\n",
       "    </tr>\n",
       "  </thead>\n",
       "  <tbody>\n",
       "    <tr>\n",
       "      <th>0</th>\n",
       "      <td>163740</td>\n",
       "      <td>Mirtazapine</td>\n",
       "      <td>Depression</td>\n",
       "      <td>\"I&amp;#039;ve tried a few antidepressants over th...</td>\n",
       "      <td>10</td>\n",
       "      <td>28-Feb-12</td>\n",
       "      <td>22</td>\n",
       "    </tr>\n",
       "    <tr>\n",
       "      <th>1</th>\n",
       "      <td>206473</td>\n",
       "      <td>Mesalamine</td>\n",
       "      <td>Crohn's Disease, Maintenance</td>\n",
       "      <td>\"My son has Crohn&amp;#039;s disease and has done ...</td>\n",
       "      <td>8</td>\n",
       "      <td>17-May-09</td>\n",
       "      <td>17</td>\n",
       "    </tr>\n",
       "    <tr>\n",
       "      <th>2</th>\n",
       "      <td>159672</td>\n",
       "      <td>Bactrim</td>\n",
       "      <td>Urinary Tract Infection</td>\n",
       "      <td>\"Quick reduction of symptoms\"</td>\n",
       "      <td>9</td>\n",
       "      <td>29-Sep-17</td>\n",
       "      <td>3</td>\n",
       "    </tr>\n",
       "    <tr>\n",
       "      <th>3</th>\n",
       "      <td>39293</td>\n",
       "      <td>Contrave</td>\n",
       "      <td>Weight Loss</td>\n",
       "      <td>\"Contrave combines drugs that were used for al...</td>\n",
       "      <td>9</td>\n",
       "      <td>5-Mar-17</td>\n",
       "      <td>35</td>\n",
       "    </tr>\n",
       "    <tr>\n",
       "      <th>4</th>\n",
       "      <td>97768</td>\n",
       "      <td>Cyclafem 1 / 35</td>\n",
       "      <td>Birth Control</td>\n",
       "      <td>\"I have been on this birth control for one cyc...</td>\n",
       "      <td>9</td>\n",
       "      <td>22-Oct-15</td>\n",
       "      <td>4</td>\n",
       "    </tr>\n",
       "  </tbody>\n",
       "</table>\n",
       "</div>"
      ],
      "text/plain": [
       "   uniqueID         drugName                     condition  \\\n",
       "0    163740      Mirtazapine                    Depression   \n",
       "1    206473       Mesalamine  Crohn's Disease, Maintenance   \n",
       "2    159672          Bactrim       Urinary Tract Infection   \n",
       "3     39293         Contrave                   Weight Loss   \n",
       "4     97768  Cyclafem 1 / 35                 Birth Control   \n",
       "\n",
       "                                              review  rating       date  \\\n",
       "0  \"I&#039;ve tried a few antidepressants over th...      10  28-Feb-12   \n",
       "1  \"My son has Crohn&#039;s disease and has done ...       8  17-May-09   \n",
       "2                      \"Quick reduction of symptoms\"       9  29-Sep-17   \n",
       "3  \"Contrave combines drugs that were used for al...       9   5-Mar-17   \n",
       "4  \"I have been on this birth control for one cyc...       9  22-Oct-15   \n",
       "\n",
       "   usefulCount  \n",
       "0           22  \n",
       "1           17  \n",
       "2            3  \n",
       "3           35  \n",
       "4            4  "
      ]
     },
     "execution_count": 5,
     "metadata": {},
     "output_type": "execute_result"
    }
   ],
   "source": [
    "# Show the head of the test data\n",
    "test.head()"
   ]
  },
  {
   "cell_type": "markdown",
   "metadata": {},
   "source": [
    "### Modify data\n",
    "From the given data set it has only rating colume from 1-10. But we need only 3 levels of rating 0,1 and 2 to determine sentiments. So, we add new column `label` for keeps rating in range of 0,1 and 2."
   ]
  },
  {
   "cell_type": "code",
   "execution_count": 6,
   "metadata": {
    "_uuid": "6ecca1635d9a83ca4326b3b9c3379a0348583ff5"
   },
   "outputs": [
    {
     "data": {
      "text/html": [
       "<div>\n",
       "<style scoped>\n",
       "    .dataframe tbody tr th:only-of-type {\n",
       "        vertical-align: middle;\n",
       "    }\n",
       "\n",
       "    .dataframe tbody tr th {\n",
       "        vertical-align: top;\n",
       "    }\n",
       "\n",
       "    .dataframe thead th {\n",
       "        text-align: right;\n",
       "    }\n",
       "</style>\n",
       "<table border=\"1\" class=\"dataframe\">\n",
       "  <thead>\n",
       "    <tr style=\"text-align: right;\">\n",
       "      <th></th>\n",
       "      <th>uniqueID</th>\n",
       "      <th>drugName</th>\n",
       "      <th>condition</th>\n",
       "      <th>review</th>\n",
       "      <th>rating</th>\n",
       "      <th>date</th>\n",
       "      <th>usefulCount</th>\n",
       "      <th>label</th>\n",
       "    </tr>\n",
       "  </thead>\n",
       "  <tbody>\n",
       "    <tr>\n",
       "      <th>0</th>\n",
       "      <td>206461</td>\n",
       "      <td>Valsartan</td>\n",
       "      <td>Left Ventricular Dysfunction</td>\n",
       "      <td>\"It has no side effect, I take it in combinati...</td>\n",
       "      <td>9</td>\n",
       "      <td>20-May-12</td>\n",
       "      <td>27</td>\n",
       "      <td>1</td>\n",
       "    </tr>\n",
       "    <tr>\n",
       "      <th>1</th>\n",
       "      <td>95260</td>\n",
       "      <td>Guanfacine</td>\n",
       "      <td>ADHD</td>\n",
       "      <td>\"My son is halfway through his fourth week of ...</td>\n",
       "      <td>8</td>\n",
       "      <td>27-Apr-10</td>\n",
       "      <td>192</td>\n",
       "      <td>1</td>\n",
       "    </tr>\n",
       "    <tr>\n",
       "      <th>2</th>\n",
       "      <td>92703</td>\n",
       "      <td>Lybrel</td>\n",
       "      <td>Birth Control</td>\n",
       "      <td>\"I used to take another oral contraceptive, wh...</td>\n",
       "      <td>5</td>\n",
       "      <td>14-Dec-09</td>\n",
       "      <td>17</td>\n",
       "      <td>0</td>\n",
       "    </tr>\n",
       "    <tr>\n",
       "      <th>3</th>\n",
       "      <td>138000</td>\n",
       "      <td>Ortho Evra</td>\n",
       "      <td>Birth Control</td>\n",
       "      <td>\"This is my first time using any form of birth...</td>\n",
       "      <td>8</td>\n",
       "      <td>3-Nov-15</td>\n",
       "      <td>10</td>\n",
       "      <td>1</td>\n",
       "    </tr>\n",
       "    <tr>\n",
       "      <th>4</th>\n",
       "      <td>35696</td>\n",
       "      <td>Buprenorphine / naloxone</td>\n",
       "      <td>Opiate Dependence</td>\n",
       "      <td>\"Suboxone has completely turned my life around...</td>\n",
       "      <td>9</td>\n",
       "      <td>27-Nov-16</td>\n",
       "      <td>37</td>\n",
       "      <td>1</td>\n",
       "    </tr>\n",
       "  </tbody>\n",
       "</table>\n",
       "</div>"
      ],
      "text/plain": [
       "   uniqueID                  drugName                     condition  \\\n",
       "0    206461                 Valsartan  Left Ventricular Dysfunction   \n",
       "1     95260                Guanfacine                          ADHD   \n",
       "2     92703                    Lybrel                 Birth Control   \n",
       "3    138000                Ortho Evra                 Birth Control   \n",
       "4     35696  Buprenorphine / naloxone             Opiate Dependence   \n",
       "\n",
       "                                              review  rating       date  \\\n",
       "0  \"It has no side effect, I take it in combinati...       9  20-May-12   \n",
       "1  \"My son is halfway through his fourth week of ...       8  27-Apr-10   \n",
       "2  \"I used to take another oral contraceptive, wh...       5  14-Dec-09   \n",
       "3  \"This is my first time using any form of birth...       8   3-Nov-15   \n",
       "4  \"Suboxone has completely turned my life around...       9  27-Nov-16   \n",
       "\n",
       "   usefulCount  label  \n",
       "0           27      1  \n",
       "1          192      1  \n",
       "2           17      0  \n",
       "3           10      1  \n",
       "4           37      1  "
      ]
     },
     "execution_count": 6,
     "metadata": {},
     "output_type": "execute_result"
    }
   ],
   "source": [
    "# Create labels based on the original article: Grässer et al. (2018)\n",
    "r = data['rating']\n",
    "labels = -1*(r <= 4) + 1*(r >= 7)\n",
    "# Add the label column to the data\n",
    "data['label'] = labels\n",
    "# Check the new data\n",
    "data.head()"
   ]
  },
  {
   "cell_type": "code",
   "execution_count": 7,
   "metadata": {},
   "outputs": [
    {
     "data": {
      "text/html": [
       "<div>\n",
       "<style scoped>\n",
       "    .dataframe tbody tr th:only-of-type {\n",
       "        vertical-align: middle;\n",
       "    }\n",
       "\n",
       "    .dataframe tbody tr th {\n",
       "        vertical-align: top;\n",
       "    }\n",
       "\n",
       "    .dataframe thead th {\n",
       "        text-align: right;\n",
       "    }\n",
       "</style>\n",
       "<table border=\"1\" class=\"dataframe\">\n",
       "  <thead>\n",
       "    <tr style=\"text-align: right;\">\n",
       "      <th></th>\n",
       "      <th>uniqueID</th>\n",
       "      <th>drugName</th>\n",
       "      <th>condition</th>\n",
       "      <th>review</th>\n",
       "      <th>rating</th>\n",
       "      <th>date</th>\n",
       "      <th>usefulCount</th>\n",
       "      <th>label</th>\n",
       "    </tr>\n",
       "  </thead>\n",
       "  <tbody>\n",
       "    <tr>\n",
       "      <th>0</th>\n",
       "      <td>163740</td>\n",
       "      <td>Mirtazapine</td>\n",
       "      <td>Depression</td>\n",
       "      <td>\"I&amp;#039;ve tried a few antidepressants over th...</td>\n",
       "      <td>10</td>\n",
       "      <td>28-Feb-12</td>\n",
       "      <td>22</td>\n",
       "      <td>1</td>\n",
       "    </tr>\n",
       "    <tr>\n",
       "      <th>1</th>\n",
       "      <td>206473</td>\n",
       "      <td>Mesalamine</td>\n",
       "      <td>Crohn's Disease, Maintenance</td>\n",
       "      <td>\"My son has Crohn&amp;#039;s disease and has done ...</td>\n",
       "      <td>8</td>\n",
       "      <td>17-May-09</td>\n",
       "      <td>17</td>\n",
       "      <td>1</td>\n",
       "    </tr>\n",
       "    <tr>\n",
       "      <th>2</th>\n",
       "      <td>159672</td>\n",
       "      <td>Bactrim</td>\n",
       "      <td>Urinary Tract Infection</td>\n",
       "      <td>\"Quick reduction of symptoms\"</td>\n",
       "      <td>9</td>\n",
       "      <td>29-Sep-17</td>\n",
       "      <td>3</td>\n",
       "      <td>1</td>\n",
       "    </tr>\n",
       "    <tr>\n",
       "      <th>3</th>\n",
       "      <td>39293</td>\n",
       "      <td>Contrave</td>\n",
       "      <td>Weight Loss</td>\n",
       "      <td>\"Contrave combines drugs that were used for al...</td>\n",
       "      <td>9</td>\n",
       "      <td>5-Mar-17</td>\n",
       "      <td>35</td>\n",
       "      <td>1</td>\n",
       "    </tr>\n",
       "    <tr>\n",
       "      <th>4</th>\n",
       "      <td>97768</td>\n",
       "      <td>Cyclafem 1 / 35</td>\n",
       "      <td>Birth Control</td>\n",
       "      <td>\"I have been on this birth control for one cyc...</td>\n",
       "      <td>9</td>\n",
       "      <td>22-Oct-15</td>\n",
       "      <td>4</td>\n",
       "      <td>1</td>\n",
       "    </tr>\n",
       "  </tbody>\n",
       "</table>\n",
       "</div>"
      ],
      "text/plain": [
       "   uniqueID         drugName                     condition  \\\n",
       "0    163740      Mirtazapine                    Depression   \n",
       "1    206473       Mesalamine  Crohn's Disease, Maintenance   \n",
       "2    159672          Bactrim       Urinary Tract Infection   \n",
       "3     39293         Contrave                   Weight Loss   \n",
       "4     97768  Cyclafem 1 / 35                 Birth Control   \n",
       "\n",
       "                                              review  rating       date  \\\n",
       "0  \"I&#039;ve tried a few antidepressants over th...      10  28-Feb-12   \n",
       "1  \"My son has Crohn&#039;s disease and has done ...       8  17-May-09   \n",
       "2                      \"Quick reduction of symptoms\"       9  29-Sep-17   \n",
       "3  \"Contrave combines drugs that were used for al...       9   5-Mar-17   \n",
       "4  \"I have been on this birth control for one cyc...       9  22-Oct-15   \n",
       "\n",
       "   usefulCount  label  \n",
       "0           22      1  \n",
       "1           17      1  \n",
       "2            3      1  \n",
       "3           35      1  \n",
       "4            4      1  "
      ]
     },
     "execution_count": 7,
     "metadata": {},
     "output_type": "execute_result"
    }
   ],
   "source": [
    "# Create labels based on the original article: Grässer et al. (2018)\n",
    "rt = test['rating']\n",
    "labelst = -1*(rt <= 4) + 1*(rt >= 7)\n",
    "# Add the label column to the test\n",
    "test['label'] = labelst\n",
    "# Check the new test\n",
    "test.head()"
   ]
  },
  {
   "cell_type": "code",
   "execution_count": 8,
   "metadata": {},
   "outputs": [
    {
     "data": {
      "text/plain": [
       "161297"
      ]
     },
     "execution_count": 8,
     "metadata": {},
     "output_type": "execute_result"
    }
   ],
   "source": [
    "# Show data lenght\n",
    "len(data)"
   ]
  },
  {
   "cell_type": "code",
   "execution_count": 9,
   "metadata": {
    "_uuid": "08887088ea8beaea4812d955eb8653edf98a81b4"
   },
   "outputs": [
    {
     "data": {
      "text/plain": [
       "<Figure size 640x480 with 1 Axes>"
      ]
     },
     "metadata": {},
     "output_type": "display_data"
    }
   ],
   "source": [
    "# Check ratings to labels conversion\n",
    "import matplotlib.pyplot as plt\n",
    "data.plot(x = 'rating', y = 'label', kind = 'scatter')\n",
    "plt.show()"
   ]
  },
  {
   "cell_type": "code",
   "execution_count": 10,
   "metadata": {
    "_uuid": "ee8fa421a95d20bd1152d502def2e19e4c4b9aa3",
    "scrolled": true
   },
   "outputs": [
    {
     "data": {
      "image/png": "[encoded data removed]",
      "text/plain": [
       "<Figure size 432x288 with 1 Axes>"
      ]
     },
     "metadata": {
      "needs_background": "light"
     },
     "output_type": "display_data"
    }
   ],
   "source": [
    "# Plot distribution of train labels\n",
    "data.hist(column = 'label', bins = np.arange(-1, 3), align = 'left');"
   ]
  },
  {
   "cell_type": "code",
   "execution_count": 11,
   "metadata": {},
   "outputs": [
    {
     "data": {
      "image/png": "[encoded data removed]",
      "text/plain": [
       "<Figure size 432x288 with 1 Axes>"
      ]
     },
     "metadata": {
      "needs_background": "light"
     },
     "output_type": "display_data"
    }
   ],
   "source": [
    "# Plot distribution of test labels\n",
    "test.hist(column = 'label', bins = np.arange(-1, 3), align = 'left');"
   ]
  },
  {
   "cell_type": "markdown",
   "metadata": {},
   "source": [
    "### Balancing the train data\n",
    "\n",
    "From original data it isn't balance when we try to observe the data in each labels. So, we balance them by adding class weight to each labels."
   ]
  },
  {
   "cell_type": "code",
   "execution_count": 12,
   "metadata": {},
   "outputs": [],
   "source": [
    "from sklearn.utils import compute_class_weight\n",
    "\n",
    "# Compute the class weight of each class\n",
    "w = compute_class_weight('balanced', [-1,0,1], labels)\n",
    "cw = {2:w[0], 0:w[1], 1:w[2]}"
   ]
  },
  {
   "cell_type": "code",
   "execution_count": 13,
   "metadata": {},
   "outputs": [
    {
     "data": {
      "text/plain": [
       "{2: 1.3416261176959867, 0: 3.745170428160119, 1: 0.5031129327070037}"
      ]
     },
     "execution_count": 13,
     "metadata": {},
     "output_type": "execute_result"
    }
   ],
   "source": [
    "# Show class weight\n",
    "cw"
   ]
  },
  {
   "cell_type": "markdown",
   "metadata": {
    "_uuid": "014e7f9b3b38675b5b1650efcc47783a48d5e4cc"
   },
   "source": [
    "## Preprocessing\n",
    "### Convert reviews to padded sequences"
   ]
  },
  {
   "cell_type": "markdown",
   "metadata": {},
   "source": [
    "First of all we do the text tokenization by using `Tokenizer` to split word in review lower them and add into array in term of index.<br>\n",
    "After that, we padding review sentences to be equal to the longest sentence of review plus one by using `pad_sequences`. We do it in both train and test data with the same index value."
   ]
  },
  {
   "cell_type": "code",
   "execution_count": 14,
   "metadata": {
    "_uuid": "bf235584908d4780353d5a0e38aea9ad762bea13"
   },
   "outputs": [
    {
     "name": "stderr",
     "output_type": "stream",
     "text": [
      "Using TensorFlow backend.\n"
     ]
    }
   ],
   "source": [
    "from keras.preprocessing.text import Tokenizer\n",
    "from keras.preprocessing.sequence import pad_sequences\n",
    "\n",
    "# Read a part of the reviews and create training sequences (x_train)\n",
    "samples = data['review'].iloc[:len(data)]\n",
    "tokenizer = Tokenizer(num_words = 2400, lower=True, split=' ')\n",
    "tokenizer.fit_on_texts(samples)\n",
    "sequences = tokenizer.texts_to_sequences(samples)\n",
    "x_train = pad_sequences(sequences, maxlen = max_lenght+1)"
   ]
  },
  {
   "cell_type": "code",
   "execution_count": 15,
   "metadata": {},
   "outputs": [],
   "source": [
    "# Read a part of the reviews and create training sequences (x_train)\n",
    "samples_test = test['review'].iloc[:len(test)]\n",
    "sequences = tokenizer.texts_to_sequences(samples_test)\n",
    "x_test = pad_sequences(sequences, maxlen = max_lenght+1)"
   ]
  },
  {
   "cell_type": "markdown",
   "metadata": {
    "_uuid": "a3655c5bcf9b628e910e8b53b60442a5fee434d7"
   },
   "source": [
    "## Convert labels to one-hot-categories"
   ]
  },
  {
   "cell_type": "markdown",
   "metadata": {},
   "source": [
    "One hot encoder is use to perform “binarization” of the category and include it as a suitable feature to train the model.<br>"
   ]
  },
  {
   "cell_type": "code",
   "execution_count": 16,
   "metadata": {
    "_uuid": "fd37022564b9ff9451eecb4ec77e5abd9c4dccb2"
   },
   "outputs": [],
   "source": [
    "from keras.utils import to_categorical\n",
    "\n",
    "# Convert the labels to one_hot_category values\n",
    "one_hot_labels = to_categorical(labels[:len(data)], num_classes = 3)\n",
    "one_hot_labels_test = to_categorical(labelst[:len(test)], num_classes = 3)"
   ]
  },
  {
   "cell_type": "markdown",
   "metadata": {
    "_uuid": "facfbe1750aaec9b9070c3a739cfe05f67b22107"
   },
   "source": [
    "## Check the shapes\n",
    "We check the shape of test and train dataset"
   ]
  },
  {
   "cell_type": "code",
   "execution_count": 17,
   "metadata": {
    "_uuid": "6cb91db2fa7dceecc529ca45181de05744edd1b0"
   },
   "outputs": [
    {
     "data": {
      "text/plain": [
       "((161297, 1895), (161297, 3))"
      ]
     },
     "execution_count": 17,
     "metadata": {},
     "output_type": "execute_result"
    }
   ],
   "source": [
    "# Check the training and label sets\n",
    "x_train.shape, one_hot_labels.shape"
   ]
  },
  {
   "cell_type": "code",
   "execution_count": 18,
   "metadata": {},
   "outputs": [
    {
     "data": {
      "text/plain": [
       "((53766, 1895), (53766, 3))"
      ]
     },
     "execution_count": 18,
     "metadata": {},
     "output_type": "execute_result"
    }
   ],
   "source": [
    "# Check the training and label sets\n",
    "x_test.shape, one_hot_labels_test.shape"
   ]
  },
  {
   "cell_type": "markdown",
   "metadata": {
    "_uuid": "a7ac19ee7633c470bfc819485e7682928962a84e"
   },
   "source": [
    "## Helper functions"
   ]
  },
  {
   "cell_type": "code",
   "execution_count": 19,
   "metadata": {
    "_uuid": "58791e3a5432a37411ccdc5ba7f2c3f1399ded87"
   },
   "outputs": [],
   "source": [
    "# We use the same plotting commands several times, so create a function for that purpose\n",
    "def plot_history(history):\n",
    "    \n",
    "    f, ax = plt.subplots(1, 2, figsize = (16, 7))\n",
    "    \n",
    "    acc = history.history['acc']\n",
    "    val_acc = history.history['val_acc']\n",
    "    loss = history.history['loss']\n",
    "    val_loss = history.history['val_loss']\n",
    "\n",
    "    epochs = range(1, len(acc) + 1)\n",
    "\n",
    "    plt.sca(ax[0])\n",
    "    plt.ylim((0,1))\n",
    "    plt.plot(epochs, acc, 'bo', label='Training acc')\n",
    "    plt.plot(epochs, val_acc, 'b', label='Validation acc')\n",
    "    plt.title('Training and validation accuracy')\n",
    "    plt.legend()\n",
    "\n",
    "    plt.sca(ax[1])\n",
    "    plt.ylim((0,1))\n",
    "    plt.plot(epochs, loss, 'bo', label='Training loss')\n",
    "    plt.plot(epochs, val_loss, 'b', label='Validation loss')\n",
    "    plt.title('Training and validation loss')\n",
    "    plt.legend()\n",
    "\n",
    "    plt.show()"
   ]
  },
  {
   "cell_type": "markdown",
   "metadata": {},
   "source": [
    "### Splite the data\n",
    "\n",
    "We splited the data to 2 sets that are training set and validation set by train and validation ratio is 80:20 These 2 data sets use to train and evaluate our models."
   ]
  },
  {
   "cell_type": "code",
   "execution_count": 20,
   "metadata": {
    "_uuid": "3e77a92f163b6a5fd7d40a9d644916b1a654b9dd"
   },
   "outputs": [],
   "source": [
    "# Similarly create a function for model training, for demonstration purposes we use constant values\n",
    "def train_model(model, x, y, e, bs , v = 1, vs = 0.2): # split data for validation 20% of whole dataset\n",
    "    h = model.fit(x, y, epochs = e, batch_size = bs, verbose = v, validation_split = vs,  class_weight=cw)\n",
    "    return h"
   ]
  },
  {
   "cell_type": "code",
   "execution_count": 21,
   "metadata": {},
   "outputs": [],
   "source": [
    "# Similarly create a function for model training, for demonstration purposes we use constant values\n",
    "def evaluate_model(model, x, y, bs = 128, v = 1):\n",
    "    score =model.evaluate(x, y, batch_size = bs, verbose = v)\n",
    "    return score"
   ]
  },
  {
   "cell_type": "markdown",
   "metadata": {},
   "source": [
    "## 4. Modeling and compilation\n",
    "\n",
    "\n",
    "In this case I will use the simple sequential architecture that include embedding layer to make the vector of word index, LSTM layer for regression problem like in this case, Convolution 1D layer, GRU layer, flatten layer, fully connected layer and dropout layer for prevent the over-fitting.\n",
    "\n",
    "We use `rmsprop` optimizer and standard `catagory_crossentropy` loss-function and `accuracy` metrics for muyi-classification.<br>\n",
    "\n",
    "\n",
    "At first we start learning with the model that professer give as an example indocument and modify them to find the good model."
   ]
  },
  {
   "cell_type": "markdown",
   "metadata": {
    "_uuid": "9a12a60f1f4e2f3fe3b6c0240744b20d3190b729"
   },
   "source": [
    "### Model1 - Embedding and Flatten"
   ]
  },
  {
   "cell_type": "code",
   "execution_count": 32,
   "metadata": {},
   "outputs": [
    {
     "name": "stdout",
     "output_type": "stream",
     "text": [
      "_________________________________________________________________\n",
      "Layer (type)                 Output Shape              Param #   \n",
      "=================================================================\n",
      "embedding_5 (Embedding)      (None, 1895, 64)          268800    \n",
      "_________________________________________________________________\n",
      "flatten_2 (Flatten)          (None, 121280)            0         \n",
      "_________________________________________________________________\n",
      "dense_6 (Dense)              (None, 32)                3880992   \n",
      "_________________________________________________________________\n",
      "dense_7 (Dense)              (None, 3)                 99        \n",
      "=================================================================\n",
      "Total params: 4,149,891\n",
      "Trainable params: 4,149,891\n",
      "Non-trainable params: 0\n",
      "_________________________________________________________________\n"
     ]
    }
   ],
   "source": [
    "from keras.models import Sequential\n",
    "from keras.layers import Embedding, Flatten, Dense\n",
    "\n",
    "# First model: Embedding layer -> Flatten -> Dense classifier\n",
    "m1 = Sequential()\n",
    "m1.add(Embedding(4200, 64, input_length = max_lenght+1)) # 1000 = num_words, 64 = Embedding layers, 500 = sequence length\n",
    "m1.add(Flatten())\n",
    "m1.add(Dense(32, activation = 'relu'))\n",
    "m1.add(Dense(3, activation = 'softmax'))\n",
    "m1.compile(optimizer = 'rmsprop', loss = 'categorical_crossentropy', metrics = ['acc'])\n",
    "m1.summary()"
   ]
  },
  {
   "cell_type": "markdown",
   "metadata": {},
   "source": [
    "## 5. Training and Validation\n",
    "\n",
    "In training this model we run 30 epochs with batch size of 1024 and given validation data seperately. we correct history of each epochs for plotting the accuracy and loss graph to analyse the models."
   ]
  },
  {
   "cell_type": "code",
   "execution_count": 43,
   "metadata": {
    "_uuid": "db91fa575c01c026ca1547237960fa1125fa3d95"
   },
   "outputs": [
    {
     "name": "stdout",
     "output_type": "stream",
     "text": [
      "Train on 129037 samples, validate on 32260 samples\n",
      "Epoch 1/30\n",
      "129037/129037 [==============================] - 15s 114us/step - loss: 1.1695 - acc: 0.2582 - val_loss: 1.1104 - val_acc: 0.2451\n",
      "Epoch 2/30\n",
      "129037/129037 [==============================] - 14s 107us/step - loss: 1.0958 - acc: 0.2910 - val_loss: 1.1103 - val_acc: 0.6619\n",
      "Epoch 3/30\n",
      "129037/129037 [==============================] - 14s 107us/step - loss: 1.0995 - acc: 0.3706 - val_loss: 1.1710 - val_acc: 0.6619\n",
      "Epoch 4/30\n",
      "129037/129037 [==============================] - 14s 108us/step - loss: 1.0189 - acc: 0.6672 - val_loss: 0.9929 - val_acc: 0.7267\n",
      "Epoch 5/30\n",
      "129037/129037 [==============================] - 15s 113us/step - loss: 0.8698 - acc: 0.6758 - val_loss: 0.9482 - val_acc: 0.5290\n",
      "Epoch 6/30\n",
      "129037/129037 [==============================] - 14s 110us/step - loss: 0.8071 - acc: 0.6887 - val_loss: 1.0939 - val_acc: 0.6770\n",
      "Epoch 7/30\n",
      "129037/129037 [==============================] - 14s 112us/step - loss: 0.7536 - acc: 0.7062 - val_loss: 0.8260 - val_acc: 0.6215\n",
      "Epoch 8/30\n",
      "129037/129037 [==============================] - 14s 111us/step - loss: 0.6879 - acc: 0.7288 - val_loss: 0.8895 - val_acc: 0.7515\n",
      "Epoch 9/30\n",
      "129037/129037 [==============================] - 14s 108us/step - loss: 0.6097 - acc: 0.7584 - val_loss: 1.0372 - val_acc: 0.7158\n",
      "Epoch 10/30\n",
      "129037/129037 [==============================] - 14s 108us/step - loss: 0.5359 - acc: 0.7843 - val_loss: 0.8893 - val_acc: 0.5861\n",
      "Epoch 11/30\n",
      "129037/129037 [==============================] - 14s 108us/step - loss: 0.4728 - acc: 0.8057 - val_loss: 0.8795 - val_acc: 0.7686\n",
      "Epoch 12/30\n",
      "129037/129037 [==============================] - 14s 108us/step - loss: 0.3982 - acc: 0.8325 - val_loss: 0.9401 - val_acc: 0.7518\n",
      "Epoch 13/30\n",
      "129037/129037 [==============================] - 14s 108us/step - loss: 0.3598 - acc: 0.8473 - val_loss: 0.8768 - val_acc: 0.7655\n",
      "Epoch 14/30\n",
      "129037/129037 [==============================] - 14s 111us/step - loss: 0.3068 - acc: 0.8705 - val_loss: 1.0133 - val_acc: 0.7958\n",
      "Epoch 15/30\n",
      "129037/129037 [==============================] - 14s 108us/step - loss: 0.2609 - acc: 0.8872 - val_loss: 1.1826 - val_acc: 0.7440\n",
      "Epoch 16/30\n",
      "129037/129037 [==============================] - 14s 108us/step - loss: 0.2471 - acc: 0.8990 - val_loss: 1.0678 - val_acc: 0.7483\n",
      "Epoch 17/30\n",
      "129037/129037 [==============================] - 14s 108us/step - loss: 0.2164 - acc: 0.9171 - val_loss: 1.2823 - val_acc: 0.7028\n",
      "Epoch 18/30\n",
      "129037/129037 [==============================] - 14s 108us/step - loss: 0.1801 - acc: 0.9272 - val_loss: 1.2821 - val_acc: 0.7757\n",
      "Epoch 19/30\n",
      "129037/129037 [==============================] - 14s 108us/step - loss: 0.1573 - acc: 0.9355 - val_loss: 1.5282 - val_acc: 0.7930\n",
      "Epoch 20/30\n",
      "129037/129037 [==============================] - 14s 108us/step - loss: 0.1504 - acc: 0.9443 - val_loss: 1.3926 - val_acc: 0.8103\n",
      "Epoch 21/30\n",
      "129037/129037 [==============================] - 14s 108us/step - loss: 0.1021 - acc: 0.9589 - val_loss: 1.6092 - val_acc: 0.8219\n",
      "Epoch 22/30\n",
      "129037/129037 [==============================] - 14s 108us/step - loss: 0.1036 - acc: 0.9594 - val_loss: 1.6679 - val_acc: 0.8142\n",
      "Epoch 23/30\n",
      "129037/129037 [==============================] - 14s 108us/step - loss: 0.1000 - acc: 0.9643 - val_loss: 1.8571 - val_acc: 0.8149\n",
      "Epoch 24/30\n",
      "129037/129037 [==============================] - 14s 108us/step - loss: 0.0839 - acc: 0.9729 - val_loss: 1.8851 - val_acc: 0.8256\n",
      "Epoch 25/30\n",
      "129037/129037 [==============================] - 14s 108us/step - loss: 0.0865 - acc: 0.9733 - val_loss: 1.9292 - val_acc: 0.8392\n",
      "Epoch 26/30\n",
      "129037/129037 [==============================] - 14s 108us/step - loss: 0.0823 - acc: 0.9793 - val_loss: 2.1112 - val_acc: 0.8366\n",
      "Epoch 27/30\n",
      "129037/129037 [==============================] - 14s 109us/step - loss: 0.0629 - acc: 0.9800 - val_loss: 2.2601 - val_acc: 0.8440\n",
      "Epoch 28/30\n",
      "129037/129037 [==============================] - 14s 109us/step - loss: 0.0497 - acc: 0.9836 - val_loss: 2.2131 - val_acc: 0.8389\n",
      "Epoch 29/30\n",
      "129037/129037 [==============================] - 14s 108us/step - loss: 0.0653 - acc: 0.9844 - val_loss: 2.2417 - val_acc: 0.8296\n",
      "Epoch 30/30\n",
      "129037/129037 [==============================] - 14s 111us/step - loss: 0.0805 - acc: 0.9820 - val_loss: 2.1059 - val_acc: 0.8298\n"
     ]
    },
    {
     "data": {
      "image/png": "[encoded data removed]",
      "text/plain": [
       "<Figure size 1152x504 with 2 Axes>"
      ]
     },
     "metadata": {
      "needs_background": "light"
     },
     "output_type": "display_data"
    }
   ],
   "source": [
    "# Train the first model and plot the history\n",
    "h0 = train_model(m0, x_train, one_hot_labels,30,1024)\n",
    "plot_history(h0)"
   ]
  },
  {
   "cell_type": "markdown",
   "metadata": {},
   "source": [
    "### Model 2 - Embedding and GRU with dropout"
   ]
  },
  {
   "cell_type": "code",
   "execution_count": null,
   "metadata": {
    "_uuid": "a3d93a40ddba585b7ffd09caf5f3bc1f0a27302e"
   },
   "outputs": [],
   "source": [
    "# Second model: Embedding -> GRU with dropouts -> Dense classifier\n",
    "m2 = Sequential()\n",
    "m2.add(Embedding(4200, 16, input_length = max_lenght+1))\n",
    "m2.add(GRU(8, dropout = 0.2, recurrent_dropout = 0.2))\n",
    "m2.add(Dense(3, activation = 'softmax'))\n",
    "m2.compile(optimizer = 'rmsprop', loss = 'categorical_crossentropy', metrics = ['acc'])\n",
    "m2.summary()"
   ]
  },
  {
   "cell_type": "code",
   "execution_count": 31,
   "metadata": {
    "_uuid": "9879a7ba728bdd20eb7b943a9c7797c0c5ce3e4b"
   },
   "outputs": [
    {
     "name": "stdout",
     "output_type": "stream",
     "text": [
      "Train on 129037 samples, validate on 32260 samples\n",
      "Epoch 1/10\n",
      "129037/129037 [==============================] - 165s 1ms/step - loss: 1.0808 - acc: 0.4990 - val_loss: 1.0782 - val_acc: 0.5533\n",
      "Epoch 2/10\n",
      "129037/129037 [==============================] - 164s 1ms/step - loss: 1.0323 - acc: 0.5827 - val_loss: 1.0239 - val_acc: 0.6277\n",
      "Epoch 3/10\n",
      "129037/129037 [==============================] - 164s 1ms/step - loss: 0.9754 - acc: 0.6346 - val_loss: 0.9905 - val_acc: 0.6550\n",
      "Epoch 4/10\n",
      "129037/129037 [==============================] - 165s 1ms/step - loss: 0.9453 - acc: 0.6460 - val_loss: 0.9626 - val_acc: 0.6201\n",
      "Epoch 5/10\n",
      "129037/129037 [==============================] - 179s 1ms/step - loss: 0.9248 - acc: 0.6479 - val_loss: 0.9501 - val_acc: 0.6568\n",
      "Epoch 6/10\n",
      "129037/129037 [==============================] - 169s 1ms/step - loss: 0.9096 - acc: 0.6465 - val_loss: 0.9408 - val_acc: 0.6128\n",
      "Epoch 7/10\n",
      "129037/129037 [==============================] - 166s 1ms/step - loss: 0.8995 - acc: 0.6441 - val_loss: 0.9432 - val_acc: 0.6301\n",
      "Epoch 8/10\n",
      "129037/129037 [==============================] - 185s 1ms/step - loss: 0.8931 - acc: 0.6445 - val_loss: 0.9316 - val_acc: 0.6335\n",
      "Epoch 9/10\n",
      "129037/129037 [==============================] - 171s 1ms/step - loss: 0.8848 - acc: 0.6476 - val_loss: 0.9282 - val_acc: 0.6024\n",
      "Epoch 10/10\n",
      "129037/129037 [==============================] - 174s 1ms/step - loss: 0.8798 - acc: 0.6456 - val_loss: 0.9258 - val_acc: 0.5888\n"
     ]
    },
    {
     "data": {
      "image/png": "[encoded data removed]",
      "text/plain": [
       "<Figure size 1152x504 with 2 Axes>"
      ]
     },
     "metadata": {
      "needs_background": "light"
     },
     "output_type": "display_data"
    }
   ],
   "source": [
    "# Train and plot the history\n",
    "h3 = train_model(m3, x_train, one_hot_labels,10,2048)\n",
    "plot_history(h3)"
   ]
  },
  {
   "cell_type": "code",
   "execution_count": 45,
   "metadata": {},
   "outputs": [
    {
     "name": "stdout",
     "output_type": "stream",
     "text": [
      "53766/53766 [==============================] - 344s 6ms/step\n"
     ]
    }
   ],
   "source": [
    "score = evaluate_model(m3, x_test, one_hot_labels_test)"
   ]
  },
  {
   "cell_type": "code",
   "execution_count": 49,
   "metadata": {},
   "outputs": [
    {
     "name": "stdout",
     "output_type": "stream",
     "text": [
      "Accuracy of Model 2:  0.5863556894713985\n"
     ]
    }
   ],
   "source": [
    "print(\"Accuracy of Model 2: \", score[1])"
   ]
  },
  {
   "cell_type": "markdown",
   "metadata": {
    "_uuid": "cf8beb6be63712acf310dd327ceab530ccc15cfc"
   },
   "source": [
    "### Model 3 - Embedding and mixed Conv1D and GRU"
   ]
  },
  {
   "cell_type": "code",
   "execution_count": 44,
   "metadata": {
    "_uuid": "eda8110fe64c475856636190c56ac9f651f2ebc3"
   },
   "outputs": [
    {
     "name": "stdout",
     "output_type": "stream",
     "text": [
      "_________________________________________________________________\n",
      "Layer (type)                 Output Shape              Param #   \n",
      "=================================================================\n",
      "embedding_7 (Embedding)      (None, 500, 32)           32000     \n",
      "_________________________________________________________________\n",
      "conv1d_3 (Conv1D)            (None, 496, 32)           5152      \n",
      "_________________________________________________________________\n",
      "conv1d_4 (Conv1D)            (None, 492, 32)           5152      \n",
      "_________________________________________________________________\n",
      "max_pooling1d_2 (MaxPooling1 (None, 98, 32)            0         \n",
      "_________________________________________________________________\n",
      "conv1d_5 (Conv1D)            (None, 92, 32)            7200      \n",
      "_________________________________________________________________\n",
      "conv1d_6 (Conv1D)            (None, 86, 32)            7200      \n",
      "_________________________________________________________________\n",
      "gru_5 (GRU)                  (None, 8)                 984       \n",
      "_________________________________________________________________\n",
      "dense_8 (Dense)              (None, 3)                 27        \n",
      "=================================================================\n",
      "Total params: 57,715\n",
      "Trainable params: 57,715\n",
      "Non-trainable params: 0\n",
      "_________________________________________________________________\n"
     ]
    }
   ],
   "source": [
    "# Third model: Embedding -> 2 x Conv1D + MaxPooling -> GRU -> Dense\n",
    "m3 = Sequential()\n",
    "m3.add(Embedding(1000, 32, input_length = 500))\n",
    "m3.add(Conv1D(32, 5, activation = 'relu'))\n",
    "m3.add(Conv1D(32, 5, activation = 'relu'))\n",
    "m3.add(MaxPooling1D(5))\n",
    "m3.add(Conv1D(32, 7, activation = 'relu'))\n",
    "m3.add(Conv1D(32, 7, activation = 'relu'))\n",
    "m3.add(GRU(8, dropout = 0.1, recurrent_dropout = 0.5))\n",
    "m3.add(Dense(3, activation = 'softmax'))\n",
    "m3.compile(optimizer = 'rmsprop', loss = 'categorical_crossentropy', metrics = ['acc'])\n",
    "m3.summary()"
   ]
  },
  {
   "cell_type": "code",
   "execution_count": 25,
   "metadata": {},
   "outputs": [
    {
     "name": "stdout",
     "output_type": "stream",
     "text": [
      "Train on 120972 samples, validate on 40325 samples\n",
      "Epoch 1/20\n",
      "120972/120972 [==============================] - 121s 1ms/step - loss: 0.9262 - acc: 0.7285 - val_loss: 0.9675 - val_acc: 0.7254\n",
      "Epoch 2/20\n",
      "120972/120972 [==============================] - 120s 996us/step - loss: 0.9135 - acc: 0.7108 - val_loss: 0.9493 - val_acc: 0.6036\n",
      "Epoch 3/20\n",
      "120972/120972 [==============================] - 120s 993us/step - loss: 0.8968 - acc: 0.6812 - val_loss: 0.9277 - val_acc: 0.6815\n",
      "Epoch 4/20\n",
      "120972/120972 [==============================] - 121s 999us/step - loss: 0.9114 - acc: 0.7326 - val_loss: 0.9438 - val_acc: 0.7145\n",
      "Epoch 5/20\n",
      "120972/120972 [==============================] - 120s 995us/step - loss: 0.9136 - acc: 0.7091 - val_loss: 0.9603 - val_acc: 0.7118\n",
      "Epoch 6/20\n",
      "120972/120972 [==============================] - 121s 997us/step - loss: 0.9153 - acc: 0.7343 - val_loss: 0.9188 - val_acc: 0.6235\n",
      "Epoch 7/20\n",
      "120972/120972 [==============================] - 121s 998us/step - loss: 0.8997 - acc: 0.6906 - val_loss: 0.9249 - val_acc: 0.6556\n",
      "Epoch 8/20\n",
      "120972/120972 [==============================] - 121s 996us/step - loss: 0.9162 - acc: 0.7172 - val_loss: 0.9650 - val_acc: 0.7248\n",
      "Epoch 9/20\n",
      "120972/120972 [==============================] - 121s 999us/step - loss: 0.9169 - acc: 0.7226 - val_loss: 0.9469 - val_acc: 0.7022\n",
      "Epoch 10/20\n",
      "120972/120972 [==============================] - 121s 1000us/step - loss: 0.9246 - acc: 0.7514 - val_loss: 0.9911 - val_acc: 0.7426\n",
      "Epoch 11/20\n",
      "120972/120972 [==============================] - 121s 997us/step - loss: 0.9111 - acc: 0.7337 - val_loss: 0.9397 - val_acc: 0.7060\n",
      "Epoch 12/20\n",
      "120972/120972 [==============================] - 120s 993us/step - loss: 0.8970 - acc: 0.7191 - val_loss: 0.9894 - val_acc: 0.5964\n",
      "Epoch 13/20\n",
      "120972/120972 [==============================] - 121s 997us/step - loss: 0.8988 - acc: 0.7084 - val_loss: 0.9705 - val_acc: 0.7492\n",
      "Epoch 14/20\n",
      "120972/120972 [==============================] - 121s 997us/step - loss: 0.8961 - acc: 0.7358 - val_loss: 0.9331 - val_acc: 0.7454\n",
      "Epoch 15/20\n",
      "120972/120972 [==============================] - 121s 997us/step - loss: 0.9030 - acc: 0.7405 - val_loss: 0.9211 - val_acc: 0.7154\n",
      "Epoch 16/20\n",
      "120972/120972 [==============================] - 121s 1ms/step - loss: 0.9057 - acc: 0.7335 - val_loss: 0.9621 - val_acc: 0.7418\n",
      "Epoch 17/20\n",
      "120972/120972 [==============================] - 121s 998us/step - loss: 0.9194 - acc: 0.7597 - val_loss: 0.9513 - val_acc: 0.7545\n",
      "Epoch 18/20\n",
      "120972/120972 [==============================] - 121s 1000us/step - loss: 0.9418 - acc: 0.7534 - val_loss: 0.9288 - val_acc: 0.7030\n",
      "Epoch 19/20\n",
      "120972/120972 [==============================] - 121s 1ms/step - loss: 0.9061 - acc: 0.7372 - val_loss: 0.9563 - val_acc: 0.7439\n",
      "Epoch 20/20\n",
      "120972/120972 [==============================] - 121s 999us/step - loss: 0.9243 - acc: 0.7349 - val_loss: 0.9695 - val_acc: 0.7543\n"
     ]
    },
    {
     "data": {
      "image/png": "[encoded data removed]",
      "text/plain": [
       "<Figure size 1152x504 with 2 Axes>"
      ]
     },
     "metadata": {
      "needs_background": "light"
     },
     "output_type": "display_data"
    }
   ],
   "source": [
    "# Train and plot the history\n",
    "h6 = train_model(m6, x_train, one_hot_labels)\n",
    "plot_history(h5)"
   ]
  },
  {
   "cell_type": "markdown",
   "metadata": {
    "_uuid": "d18cbc7af183e309c79312ad32d242155efbda36"
   },
   "source": [
    "### Model 4 - Embedding and mixed Conv1D and LSTM"
   ]
  },
  {
   "cell_type": "code",
   "execution_count": 52,
   "metadata": {},
   "outputs": [
    {
     "name": "stdout",
     "output_type": "stream",
     "text": [
      "_________________________________________________________________\n",
      "Layer (type)                 Output Shape              Param #   \n",
      "=================================================================\n",
      "embedding_8 (Embedding)      (None, 1895, 128)         1075200   \n",
      "_________________________________________________________________\n",
      "conv1d_3 (Conv1D)            (None, 1891, 32)          20512     \n",
      "_________________________________________________________________\n",
      "max_pooling1d_3 (MaxPooling1 (None, 378, 32)           0         \n",
      "_________________________________________________________________\n",
      "dropout_4 (Dropout)          (None, 378, 32)           0         \n",
      "_________________________________________________________________\n",
      "conv1d_4 (Conv1D)            (None, 374, 16)           2576      \n",
      "_________________________________________________________________\n",
      "max_pooling1d_4 (MaxPooling1 (None, 74, 16)            0         \n",
      "_________________________________________________________________\n",
      "dropout_5 (Dropout)          (None, 74, 16)            0         \n",
      "_________________________________________________________________\n",
      "lstm_3 (LSTM)                (None, 8)                 800       \n",
      "_________________________________________________________________\n",
      "dropout_6 (Dropout)          (None, 8)                 0         \n",
      "_________________________________________________________________\n",
      "dense_9 (Dense)              (None, 3)                 27        \n",
      "=================================================================\n",
      "Total params: 1,099,115\n",
      "Trainable params: 1,099,115\n",
      "Non-trainable params: 0\n",
      "_________________________________________________________________\n"
     ]
    }
   ],
   "source": [
    "# Fourth model: Embedding -> 2 x Conv1D + MaxPooling + Dropout -> LSTM -> Dense\n",
    "from keras.layers import Dropout,Conv1D,LSTM,MaxPooling1D\n",
    "m7 = Sequential()\n",
    "m7.add(Embedding(8400,128, input_length = max_lenght+1))\n",
    "m7.add(Conv1D(32, 5, activation = 'relu'))\n",
    "m7.add(MaxPooling1D(5))\n",
    "m7.add(Dropout(0.4))\n",
    "m7.add(Conv1D(16,5, activation = 'relu'))\n",
    "m7.add(MaxPooling1D(5))\n",
    "m7.add(Dropout(0.4))\n",
    "m7.add(LSTM(8, dropout = 0.3,recurrent_dropout = 0.5))\n",
    "m7.add(Dropout(0.3))\n",
    "m7.add(Dense(3, activation = 'softmax'))\n",
    "m7.compile(optimizer = 'rmsprop', loss = 'categorical_crossentropy', metrics = ['acc'])\n",
    "m7.summary()"
   ]
  },
  {
   "cell_type": "code",
   "execution_count": 53,
   "metadata": {},
   "outputs": [
    {
     "name": "stdout",
     "output_type": "stream",
     "text": [
      "Train on 129037 samples, validate on 32260 samples\n",
      "Epoch 1/30\n",
      "129037/129037 [==============================] - 70s 540us/step - loss: 1.0692 - acc: 0.4232 - val_loss: 0.9946 - val_acc: 0.6184\n",
      "Epoch 2/30\n",
      "129037/129037 [==============================] - 69s 539us/step - loss: 0.9842 - acc: 0.6266 - val_loss: 0.9871 - val_acc: 0.7157\n",
      "Epoch 3/30\n",
      "129037/129037 [==============================] - 71s 552us/step - loss: 0.9551 - acc: 0.6256 - val_loss: 0.9846 - val_acc: 0.6998\n",
      "Epoch 4/30\n",
      "129037/129037 [==============================] - 70s 541us/step - loss: 0.9328 - acc: 0.6322 - val_loss: 0.9148 - val_acc: 0.6180\n",
      "Epoch 5/30\n",
      "129037/129037 [==============================] - 70s 540us/step - loss: 0.9117 - acc: 0.6422 - val_loss: 0.9082 - val_acc: 0.6507\n",
      "Epoch 6/30\n",
      "129037/129037 [==============================] - 70s 541us/step - loss: 0.8934 - acc: 0.6492 - val_loss: 0.8897 - val_acc: 0.6703\n",
      "Epoch 7/30\n",
      "129037/129037 [==============================] - 75s 579us/step - loss: 0.8776 - acc: 0.6542 - val_loss: 0.8981 - val_acc: 0.6175\n",
      "Epoch 8/30\n",
      "129037/129037 [==============================] - 75s 585us/step - loss: 0.8584 - acc: 0.6644 - val_loss: 0.8851 - val_acc: 0.6817\n",
      "Epoch 9/30\n",
      "129037/129037 [==============================] - 69s 534us/step - loss: 0.8426 - acc: 0.6693 - val_loss: 0.8611 - val_acc: 0.6649\n",
      "Epoch 10/30\n",
      "129037/129037 [==============================] - 70s 546us/step - loss: 0.8296 - acc: 0.6735 - val_loss: 0.8675 - val_acc: 0.6608\n",
      "Epoch 11/30\n",
      "129037/129037 [==============================] - 67s 522us/step - loss: 0.8161 - acc: 0.6764 - val_loss: 0.8765 - val_acc: 0.5727\n",
      "Epoch 12/30\n",
      "129037/129037 [==============================] - 68s 523us/step - loss: 0.8025 - acc: 0.6781 - val_loss: 0.8497 - val_acc: 0.7020\n",
      "Epoch 13/30\n",
      "129037/129037 [==============================] - 68s 528us/step - loss: 0.7927 - acc: 0.6853 - val_loss: 0.8605 - val_acc: 0.7458\n",
      "Epoch 14/30\n",
      "129037/129037 [==============================] - 67s 523us/step - loss: 0.7794 - acc: 0.6874 - val_loss: 0.9058 - val_acc: 0.7468\n",
      "Epoch 15/30\n",
      "129037/129037 [==============================] - 67s 522us/step - loss: 0.7709 - acc: 0.6902 - val_loss: 0.8679 - val_acc: 0.7312\n",
      "Epoch 16/30\n",
      "129037/129037 [==============================] - 68s 527us/step - loss: 0.7602 - acc: 0.6962 - val_loss: 0.9489 - val_acc: 0.7100\n",
      "Epoch 17/30\n",
      "129037/129037 [==============================] - 68s 527us/step - loss: 0.7514 - acc: 0.6953 - val_loss: 0.9001 - val_acc: 0.7096\n",
      "Epoch 18/30\n",
      "129037/129037 [==============================] - 70s 541us/step - loss: 0.7424 - acc: 0.6983 - val_loss: 0.8728 - val_acc: 0.7125\n",
      "Epoch 19/30\n",
      "129037/129037 [==============================] - 70s 543us/step - loss: 0.7340 - acc: 0.7020 - val_loss: 0.9076 - val_acc: 0.7081\n",
      "Epoch 20/30\n",
      "129037/129037 [==============================] - 69s 535us/step - loss: 0.7283 - acc: 0.7009 - val_loss: 0.8659 - val_acc: 0.7014\n",
      "Epoch 21/30\n",
      "129037/129037 [==============================] - 69s 535us/step - loss: 0.7207 - acc: 0.7032 - val_loss: 0.8303 - val_acc: 0.7032\n",
      "Epoch 22/30\n",
      "129037/129037 [==============================] - 69s 535us/step - loss: 0.7093 - acc: 0.7074 - val_loss: 0.8424 - val_acc: 0.7046\n",
      "Epoch 23/30\n",
      "129037/129037 [==============================] - 69s 536us/step - loss: 0.7057 - acc: 0.7075 - val_loss: 0.8176 - val_acc: 0.6749\n",
      "Epoch 24/30\n",
      "129037/129037 [==============================] - 68s 530us/step - loss: 0.7000 - acc: 0.7103 - val_loss: 0.8487 - val_acc: 0.6853\n",
      "Epoch 25/30\n",
      "129037/129037 [==============================] - 68s 526us/step - loss: 0.6930 - acc: 0.7100 - val_loss: 0.8643 - val_acc: 0.6969\n",
      "Epoch 26/30\n",
      "129037/129037 [==============================] - 70s 541us/step - loss: 0.6876 - acc: 0.7166 - val_loss: 0.8967 - val_acc: 0.7113\n",
      "Epoch 27/30\n",
      "129037/129037 [==============================] - 69s 534us/step - loss: 0.6840 - acc: 0.7134 - val_loss: 0.8153 - val_acc: 0.6744\n",
      "Epoch 28/30\n",
      "129037/129037 [==============================] - 67s 522us/step - loss: 0.6782 - acc: 0.7166 - val_loss: 0.9635 - val_acc: 0.6263\n",
      "Epoch 29/30\n",
      "129037/129037 [==============================] - 68s 524us/step - loss: 0.6733 - acc: 0.7181 - val_loss: 0.8871 - val_acc: 0.6917\n",
      "Epoch 30/30\n",
      "129037/129037 [==============================] - 67s 521us/step - loss: 0.6743 - acc: 0.7165 - val_loss: 0.8183 - val_acc: 0.6953\n"
     ]
    },
    {
     "data": {
      "image/png": "[encoded data removed]",
      "text/plain": [
       "<Figure size 1152x504 with 2 Axes>"
      ]
     },
     "metadata": {
      "needs_background": "light"
     },
     "output_type": "display_data"
    }
   ],
   "source": [
    "# Train and plot the history\n",
    "h7 = train_model(m7, x_train, one_hot_labels,30,512)\n",
    "plot_history(h7)"
   ]
  },
  {
   "cell_type": "markdown",
   "metadata": {},
   "source": [
    "## 6. Evaluation"
   ]
  },
  {
   "cell_type": "markdown",
   "metadata": {},
   "source": [
    "In evaluation we calculate the accuracy by using accuracy = number of collect prediction/ Total number of prediction (`model.evaluate`)"
   ]
  },
  {
   "cell_type": "code",
   "execution_count": 54,
   "metadata": {},
   "outputs": [
    {
     "name": "stdout",
     "output_type": "stream",
     "text": [
      "53766/53766 [==============================] - 21s 397us/step\n"
     ]
    }
   ],
   "source": [
    "score = evaluate_model(m7, x_test, one_hot_labels_test)"
   ]
  },
  {
   "cell_type": "code",
   "execution_count": 55,
   "metadata": {},
   "outputs": [
    {
     "name": "stdout",
     "output_type": "stream",
     "text": [
      "Accuracy of Model 4:  0.6917382732581929\n",
      "Loss of Model 4:  0.6968305681834941\n"
     ]
    }
   ],
   "source": [
    "print(\"Accuracy of Model 4: \", score[1])\n",
    "print(\"Loss of Model 4: \", score[0])"
   ]
  },
  {
   "cell_type": "markdown",
   "metadata": {},
   "source": [
    "## 7. Results and Discussion"
   ]
  },
  {
   "cell_type": "markdown",
   "metadata": {},
   "source": [
    "Now we visualize the training results. First the loss-function and next the accuracy.<br>\n",
    "As you can see the accuracy graph below some time we getting a little over fitting model, for the loss function graph our model has low learning rate because the graph have very low slope."
   ]
  },
  {
   "cell_type": "code",
   "execution_count": 57,
   "metadata": {},
   "outputs": [
    {
     "data": {
      "image/png": "[encoded data removed]",
      "text/plain": [
       "<Figure size 1080x504 with 2 Axes>"
      ]
     },
     "metadata": {
      "needs_background": "light"
     },
     "output_type": "display_data"
    }
   ],
   "source": [
    "epochs = np.arange(30) + 1.0\n",
    "\n",
    "f, (ax1, ax2) = plt.subplots(1, 2, figsize = (15,7))\n",
    "\n",
    "def plotter(ax, epochs, h, variable):\n",
    "    ax.plot(epochs, h.history[variable], label = variable)\n",
    "    ax.plot(epochs, h.history['val_' + variable], label = 'val_'+variable)\n",
    "    ax.set_xlabel('Epochs')\n",
    "    ax.legend()\n",
    "\n",
    "plotter(ax1, epochs, h7, 'acc')\n",
    "plotter(ax2, epochs, h7, 'loss')\n",
    "plt.show()"
   ]
  },
  {
   "cell_type": "markdown",
   "metadata": {},
   "source": [
    "## 8. Conclusions"
   ]
  },
  {
   "cell_type": "markdown",
   "metadata": {},
   "source": [
    "&emsp; In conclusion, it very hard to build the good model in this case with small data set at first time because it has low accuracy and face with overfitting. We decide to use the new bigger data set with 16000 samples. The accuracy of our model increase a bit but we still face with overfitting. I try to build many model to find the best model that have highest accuracy and don't overfit by tuning many parameters. For example, increase number of batch size for reduce the overfit, increase the number of max feature for more complex model. After playing with many model and searching what model that other people use for text sentiment analysis we found the best models that has high accuracy and low overfitting.<br>\n",
    "&emsp; The best model for now is fourth model, this model has 7 layers (1 embedding layer, 2 convolution layers, 2 MaxPooling layers, 1 LSTM layer, 1 fully connection layer).\n",
    " The input is connected to embedding layer, then connected to convolution 1D layer with 32 filters(size 5x1),which connect to 5x1 maxpooling layer, then connected to other convolution 1D layer with 16 filters(size 5x1), which connect to 5x1 maxpooling layer, this two were closed by 2 dropouts with 40%, then connected to LSTM layer with dropout 30%, which connected to fully connected with output 3 as show with `model.summary()` above. The result that we got quite low accuracy but it highest of all model that we tried that is around 72% and quite low over-fitting. For all model we train with 50 epochs and many number of batch size for finding the best model. Our models have quite high learing rate but it's very overfitting and hard to reduce. We try to reduce the overfitting by andding dropout layer the result is good, overfitting is lower but the accuracy is lower too and training loss isn't lower than 65%.<br>\n",
    "&emsp; for this work we had study and know more about text sentiment analysis with using convolution, GRU, LSTM and come up with the small and simple model that have satisfied accuracy but very overfitting. For some big model it doesn't have high accuracy every time base on many parameters(number of data, epochs, batch size, step per epoch etc.) but sometime it has lower overfitting than small model and it take time to training the model than first two case that is binary classification. If we have more time to train and test we will get the better model and higher accuracy too. "
   ]
  },
  {
   "cell_type": "code",
   "execution_count": null,
   "metadata": {},
   "outputs": [],
   "source": []
  }
 ],
 "metadata": {
  "kernelspec": {
   "display_name": "Python 3",
   "language": "python",
   "name": "python3"
  },
  "language_info": {
   "codemirror_mode": {
    "name": "ipython",
    "version": 3
   },
   "file_extension": ".py",
   "mimetype": "text/x-python",
   "name": "python",
   "nbconvert_exporter": "python",
   "pygments_lexer": "ipython3",
   "version": "3.6.7"
  }
 },
 "nbformat": 4,
 "nbformat_minor": 1
}
